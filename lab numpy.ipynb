{
 "cells": [
  {
   "cell_type": "markdown",
   "id": "9ddadfec-29d5-4cbb-85f8-813d4737153d",
   "metadata": {},
   "source": [
    "# 1. Import the NUMPY package under the name np.\n"
   ]
  },
  {
   "cell_type": "code",
   "execution_count": 5,
   "id": "aadfc3d1-5a5e-4c8e-9c5f-8e3f84d26191",
   "metadata": {
    "tags": []
   },
   "outputs": [],
   "source": [
    "import numpy as np\n",
    "import random"
   ]
  },
  {
   "cell_type": "markdown",
   "id": "44542897-2f3d-4426-a047-bfd633ac5f29",
   "metadata": {},
   "source": [
    "# 2. Print the NUMPY version and the configuration.\n"
   ]
  },
  {
   "cell_type": "code",
   "execution_count": 7,
   "id": "b780bd11-3b29-4e00-8c6c-f8f7123f6df1",
   "metadata": {
    "tags": []
   },
   "outputs": [
    {
     "name": "stdout",
     "output_type": "stream",
     "text": [
      "NumPy Version: 1.24.3\n",
      "NumPy Configuration:\n",
      "blas_armpl_info:\n",
      "  NOT AVAILABLE\n",
      "blas_mkl_info:\n",
      "    libraries = ['mkl_rt']\n",
      "    library_dirs = ['C:/Users/usuario/anaconda3\\\\Library\\\\lib']\n",
      "    define_macros = [('SCIPY_MKL_H', None), ('HAVE_CBLAS', None)]\n",
      "    include_dirs = ['C:/Users/usuario/anaconda3\\\\Library\\\\include']\n",
      "blas_opt_info:\n",
      "    libraries = ['mkl_rt']\n",
      "    library_dirs = ['C:/Users/usuario/anaconda3\\\\Library\\\\lib']\n",
      "    define_macros = [('SCIPY_MKL_H', None), ('HAVE_CBLAS', None)]\n",
      "    include_dirs = ['C:/Users/usuario/anaconda3\\\\Library\\\\include']\n",
      "lapack_armpl_info:\n",
      "  NOT AVAILABLE\n",
      "lapack_mkl_info:\n",
      "    libraries = ['mkl_rt']\n",
      "    library_dirs = ['C:/Users/usuario/anaconda3\\\\Library\\\\lib']\n",
      "    define_macros = [('SCIPY_MKL_H', None), ('HAVE_CBLAS', None)]\n",
      "    include_dirs = ['C:/Users/usuario/anaconda3\\\\Library\\\\include']\n",
      "lapack_opt_info:\n",
      "    libraries = ['mkl_rt']\n",
      "    library_dirs = ['C:/Users/usuario/anaconda3\\\\Library\\\\lib']\n",
      "    define_macros = [('SCIPY_MKL_H', None), ('HAVE_CBLAS', None)]\n",
      "    include_dirs = ['C:/Users/usuario/anaconda3\\\\Library\\\\include']\n",
      "Supported SIMD extensions in this NumPy install:\n",
      "    baseline = SSE,SSE2,SSE3\n",
      "    found = SSSE3,SSE41,POPCNT,SSE42,AVX,F16C,FMA3,AVX2,AVX512F,AVX512CD,AVX512_SKX,AVX512_CLX,AVX512_CNL,AVX512_ICL\n",
      "    not found = \n",
      "None\n"
     ]
    }
   ],
   "source": [
    "print(\"NumPy Version:\", np.__version__)\n",
    "print(\"NumPy Configuration:\")\n",
    "print(np.show_config())"
   ]
  },
  {
   "cell_type": "markdown",
   "id": "c0e15da9-7156-4755-97cd-416b5bfde692",
   "metadata": {},
   "source": [
    "# 3. Generate a 2x3x5 3-dimensional array with random values. Assign the array to variable \"a\"\n"
   ]
  },
  {
   "cell_type": "code",
   "execution_count": 9,
   "id": "e7ae41db-76e5-4695-82ff-7529132043fb",
   "metadata": {
    "tags": []
   },
   "outputs": [
    {
     "name": "stdout",
     "output_type": "stream",
     "text": [
      "[[[0.20371538 0.76248619 0.0703672  0.11182408 0.52722839]\n",
      "  [0.5193722  0.585888   0.24327654 0.26785671 0.68955697]\n",
      "  [0.27306234 0.9640056  0.38714681 0.86870384 0.4218912 ]]\n",
      "\n",
      " [[0.803184   0.34962851 0.25855186 0.24830883 0.46461755]\n",
      "  [0.8450328  0.06439574 0.00857689 0.43531211 0.10243173]\n",
      "  [0.34587154 0.20046233 0.67227009 0.42710673 0.43800783]]]\n"
     ]
    }
   ],
   "source": [
    "a = np.random.random((2, 3, 5))\n",
    "print(a)"
   ]
  },
  {
   "cell_type": "markdown",
   "id": "93f11690-aeb0-4df7-9dbd-371437701b4b",
   "metadata": {
    "tags": []
   },
   "source": [
    "# Challenge: there are at least three easy ways that use numpy to generate random arrays. How many ways can you find?\n"
   ]
  },
  {
   "cell_type": "code",
   "execution_count": 13,
   "id": "9e776380-ea74-4f61-8211-c497326f19e0",
   "metadata": {
    "tags": []
   },
   "outputs": [
    {
     "name": "stdout",
     "output_type": "stream",
     "text": [
      "esto es a:\n",
      " [[[0.44119926 0.07364057 0.41491598 0.20759116 0.18868822]\n",
      "  [0.86147302 0.0140996  0.68001684 0.47812446 0.29567583]\n",
      "  [0.17940963 0.18732466 0.57288108 0.17277935 0.91434247]]\n",
      "\n",
      " [[0.85121329 0.92842521 0.43370408 0.71083908 0.37092579]\n",
      "  [0.2962207  0.23504265 0.1583785  0.11702371 0.19544287]\n",
      "  [0.04917019 0.07555929 0.11455642 0.09126778 0.61180491]]]\n",
      "esto es b:\n",
      " [[[0.08655574 0.82320803 0.02594438 0.80165348 0.16573196]\n",
      "  [0.81365249 0.5615189  0.16880526 0.47931415 0.95978011]\n",
      "  [0.47728541 0.97945841 0.19798479 0.61763364 0.93926947]]\n",
      "\n",
      " [[0.19130026 0.64245491 0.37894128 0.06110863 0.0964341 ]\n",
      "  [0.37953692 0.12801654 0.94741008 0.62816441 0.54735669]\n",
      "  [0.08429223 0.22375457 0.57644715 0.46897843 0.520165  ]]]\n",
      "esto es c:\n",
      " [[[-0.16744511  2.03581584 -2.06264644 -1.54917202 -0.00622479]\n",
      "  [-1.90191843 -0.58586768  1.37391352 -1.40772556 -0.10178195]\n",
      "  [ 0.76858198  0.11018161  0.04396812 -0.49902641  1.0372408 ]]\n",
      "\n",
      " [[ 0.16487582 -1.20901562 -0.13591817 -0.54639775 -1.33581017]\n",
      "  [-0.99251432 -1.40617578  1.13310694  0.77004929  0.85686292]\n",
      "  [ 1.0243688  -0.73811121 -2.04016738  0.26177622  0.49592676]]]\n"
     ]
    }
   ],
   "source": [
    "a = np.random.random((2, 3, 5))\n",
    "b = np.random.rand(2, 3, 5)\n",
    "c = np.random.randn(2, 3, 5)\n",
    "print(f\"esto es a:\\n {a}\")\n",
    "print(f\"esto es b:\\n {b}\")\n",
    "print(f\"esto es c:\\n {c}\")"
   ]
  },
  {
   "cell_type": "markdown",
   "id": "c6786b01-3a74-4c5d-93ba-93101cccc0e6",
   "metadata": {
    "tags": []
   },
   "source": [
    "# 5. Create a 5x2x3 3-dimensional array with all values equaling 1.\n",
    "# Assign the array to variable \"b\"\n"
   ]
  },
  {
   "cell_type": "code",
   "execution_count": 22,
   "id": "40b2a175-c8b0-479a-add1-bc66db6beb4d",
   "metadata": {
    "tags": []
   },
   "outputs": [
    {
     "name": "stdout",
     "output_type": "stream",
     "text": [
      "[[[1. 1. 1.]\n",
      "  [1. 1. 1.]]\n",
      "\n",
      " [[1. 1. 1.]\n",
      "  [1. 1. 1.]]\n",
      "\n",
      " [[1. 1. 1.]\n",
      "  [1. 1. 1.]]\n",
      "\n",
      " [[1. 1. 1.]\n",
      "  [1. 1. 1.]]\n",
      "\n",
      " [[1. 1. 1.]\n",
      "  [1. 1. 1.]]]\n"
     ]
    }
   ],
   "source": [
    "b = np.ones((5, 2, 3))\n",
    "print(b)"
   ]
  },
  {
   "cell_type": "markdown",
   "id": "729bb125-f612-4b77-885b-9e0d1f31f885",
   "metadata": {},
   "source": [
    "# 7. Do a and b have the same size? How do you prove that in Python code?\n"
   ]
  },
  {
   "cell_type": "code",
   "execution_count": 29,
   "id": "add53a81-7bc9-4735-8c61-65e93bda1fcf",
   "metadata": {
    "tags": []
   },
   "outputs": [
    {
     "name": "stdout",
     "output_type": "stream",
     "text": [
      "True\n",
      "False\n"
     ]
    }
   ],
   "source": [
    "size = b.size == a.size\n",
    "shape = b.shape == a.shape\n",
    "print(size)\n",
    "print(shape)"
   ]
  },
  {
   "cell_type": "markdown",
   "id": "5c7f759c-c0ba-4217-8ad6-bc6a5bba303e",
   "metadata": {},
   "source": [
    "# 8. Are you able to add a and b? Why or why not?\n"
   ]
  },
  {
   "cell_type": "code",
   "execution_count": 26,
   "id": "1480ba13-67cb-4e44-801b-61244958a1d1",
   "metadata": {
    "tags": []
   },
   "outputs": [
    {
     "ename": "ValueError",
     "evalue": "operands could not be broadcast together with shapes (2,3,5) (5,2,3) ",
     "output_type": "error",
     "traceback": [
      "\u001b[1;31m---------------------------------------------------------------------------\u001b[0m",
      "\u001b[1;31mValueError\u001b[0m                                Traceback (most recent call last)",
      "Cell \u001b[1;32mIn[26], line 1\u001b[0m\n\u001b[1;32m----> 1\u001b[0m suma_arrays \u001b[38;5;241m=\u001b[39m a \u001b[38;5;241m+\u001b[39m b\n\u001b[0;32m      2\u001b[0m suma_arrays\n",
      "\u001b[1;31mValueError\u001b[0m: operands could not be broadcast together with shapes (2,3,5) (5,2,3) "
     ]
    }
   ],
   "source": [
    "suma_arrays = a + b\n",
    "suma_arrays# no se puede por que a pesar de tener el mismo size no tiene la misma shape"
   ]
  },
  {
   "cell_type": "markdown",
   "id": "ce2a31d1-3a31-4ac7-a209-d0de450836cd",
   "metadata": {},
   "source": [
    "# 9. Transpose b so that it has the same structure of a (i.e. become a 2x3x5 array). Assign the transposed array to varialbe \"c\".\n"
   ]
  },
  {
   "cell_type": "code",
   "execution_count": 30,
   "id": "7b56d24f-ea7b-4857-8dc3-154cbcc0757b",
   "metadata": {
    "tags": []
   },
   "outputs": [
    {
     "data": {
      "text/plain": [
       "True"
      ]
     },
     "execution_count": 30,
     "metadata": {},
     "output_type": "execute_result"
    }
   ],
   "source": [
    "c = np.transpose(b, (1, 2, 0))\n",
    "c.shape == a.shape"
   ]
  },
  {
   "cell_type": "markdown",
   "id": "fe5dba00-5812-48dc-91f0-698982f9adfb",
   "metadata": {},
   "source": [
    "# 10. Try to add a and c. Now it should work. Assign the sum to varialbe \"d\". But why does it work now?\n"
   ]
  },
  {
   "cell_type": "code",
   "execution_count": 32,
   "id": "70270e46-ba10-4f46-9f67-f466186192fe",
   "metadata": {
    "tags": []
   },
   "outputs": [
    {
     "data": {
      "text/plain": [
       "array([[[1.44119926, 1.07364057, 1.41491598, 1.20759116, 1.18868822],\n",
       "        [1.86147302, 1.0140996 , 1.68001684, 1.47812446, 1.29567583],\n",
       "        [1.17940963, 1.18732466, 1.57288108, 1.17277935, 1.91434247]],\n",
       "\n",
       "       [[1.85121329, 1.92842521, 1.43370408, 1.71083908, 1.37092579],\n",
       "        [1.2962207 , 1.23504265, 1.1583785 , 1.11702371, 1.19544287],\n",
       "        [1.04917019, 1.07555929, 1.11455642, 1.09126778, 1.61180491]]])"
      ]
     },
     "execution_count": 32,
     "metadata": {},
     "output_type": "execute_result"
    }
   ],
   "source": [
    "d = c + a\n",
    "d # por que ahora si que tienen la misma shape"
   ]
  },
  {
   "cell_type": "markdown",
   "id": "ed1d48fa-34f9-49b8-806f-39af4c2f4ace",
   "metadata": {},
   "source": [
    "# 11. Print a and d. Notice the difference and relation of the two array in terms of the values? Explain.\n"
   ]
  },
  {
   "cell_type": "code",
   "execution_count": 33,
   "id": "112d8d70-0395-4834-b722-25023a9bb2c5",
   "metadata": {
    "tags": []
   },
   "outputs": [
    {
     "name": "stdout",
     "output_type": "stream",
     "text": [
      "[[[0.44119926 0.07364057 0.41491598 0.20759116 0.18868822]\n",
      "  [0.86147302 0.0140996  0.68001684 0.47812446 0.29567583]\n",
      "  [0.17940963 0.18732466 0.57288108 0.17277935 0.91434247]]\n",
      "\n",
      " [[0.85121329 0.92842521 0.43370408 0.71083908 0.37092579]\n",
      "  [0.2962207  0.23504265 0.1583785  0.11702371 0.19544287]\n",
      "  [0.04917019 0.07555929 0.11455642 0.09126778 0.61180491]]]\n",
      "[[[1.44119926 1.07364057 1.41491598 1.20759116 1.18868822]\n",
      "  [1.86147302 1.0140996  1.68001684 1.47812446 1.29567583]\n",
      "  [1.17940963 1.18732466 1.57288108 1.17277935 1.91434247]]\n",
      "\n",
      " [[1.85121329 1.92842521 1.43370408 1.71083908 1.37092579]\n",
      "  [1.2962207  1.23504265 1.1583785  1.11702371 1.19544287]\n",
      "  [1.04917019 1.07555929 1.11455642 1.09126778 1.61180491]]]\n"
     ]
    }
   ],
   "source": [
    "print(a)\n",
    "print(d) # se puede observar que los valores del primer array son todos inferiores a uno mientras que d no, ya que es una suma de los arrays anteriores"
   ]
  },
  {
   "cell_type": "markdown",
   "id": "fe45eaf3-b707-4f00-9664-3d8c15b48600",
   "metadata": {},
   "source": [
    "# 12. Multiply a and c. Assign the result to e.\n"
   ]
  },
  {
   "cell_type": "code",
   "execution_count": 34,
   "id": "e14cbaba-d6db-47ed-ad98-defef13fb05d",
   "metadata": {
    "tags": []
   },
   "outputs": [
    {
     "data": {
      "text/plain": [
       "array([[[0.44119926, 0.07364057, 0.41491598, 0.20759116, 0.18868822],\n",
       "        [0.86147302, 0.0140996 , 0.68001684, 0.47812446, 0.29567583],\n",
       "        [0.17940963, 0.18732466, 0.57288108, 0.17277935, 0.91434247]],\n",
       "\n",
       "       [[0.85121329, 0.92842521, 0.43370408, 0.71083908, 0.37092579],\n",
       "        [0.2962207 , 0.23504265, 0.1583785 , 0.11702371, 0.19544287],\n",
       "        [0.04917019, 0.07555929, 0.11455642, 0.09126778, 0.61180491]]])"
      ]
     },
     "execution_count": 34,
     "metadata": {},
     "output_type": "execute_result"
    }
   ],
   "source": [
    "e = a * c\n",
    "a"
   ]
  },
  {
   "cell_type": "markdown",
   "id": "e2de33c2-b8a2-4950-908c-f28d20401362",
   "metadata": {},
   "source": [
    "# 13. Does e equal to a? Why or why not?\n"
   ]
  },
  {
   "cell_type": "code",
   "execution_count": 36,
   "id": "c9038d07-9d8a-4a5c-99ac-e5674ad0d395",
   "metadata": {
    "tags": []
   },
   "outputs": [
    {
     "name": "stdout",
     "output_type": "stream",
     "text": [
      "[[[0.44119926 0.07364057 0.41491598 0.20759116 0.18868822]\n",
      "  [0.86147302 0.0140996  0.68001684 0.47812446 0.29567583]\n",
      "  [0.17940963 0.18732466 0.57288108 0.17277935 0.91434247]]\n",
      "\n",
      " [[0.85121329 0.92842521 0.43370408 0.71083908 0.37092579]\n",
      "  [0.2962207  0.23504265 0.1583785  0.11702371 0.19544287]\n",
      "  [0.04917019 0.07555929 0.11455642 0.09126778 0.61180491]]]\n",
      "[[[0.44119926 0.07364057 0.41491598 0.20759116 0.18868822]\n",
      "  [0.86147302 0.0140996  0.68001684 0.47812446 0.29567583]\n",
      "  [0.17940963 0.18732466 0.57288108 0.17277935 0.91434247]]\n",
      "\n",
      " [[0.85121329 0.92842521 0.43370408 0.71083908 0.37092579]\n",
      "  [0.2962207  0.23504265 0.1583785  0.11702371 0.19544287]\n",
      "  [0.04917019 0.07555929 0.11455642 0.09126778 0.61180491]]]\n"
     ]
    }
   ],
   "source": [
    "e == a\n",
    "print(a)\n",
    "print(e) # son iguales por que los valores son equitativos en ambos arrays"
   ]
  },
  {
   "cell_type": "markdown",
   "id": "6b85c42b-091c-4aae-8878-83a63c3ab252",
   "metadata": {},
   "source": [
    "# 14. Identify the max, min, and mean values in d. Assign those values to variables \"d_max\", \"d_min\", and \"d_mean\"\n"
   ]
  },
  {
   "cell_type": "code",
   "execution_count": 40,
   "id": "489bcd43-c558-40d7-8475-f5fe7c389c3a",
   "metadata": {
    "tags": []
   },
   "outputs": [
    {
     "name": "stdout",
     "output_type": "stream",
     "text": [
      "1.9284252104009116\n",
      "1.0140996010312624\n",
      "1.3640578871453024\n"
     ]
    }
   ],
   "source": [
    "d_max = d.max()\n",
    "d_min = d.min()\n",
    "d_mean = d.mean()\n",
    "print(d_max)\n",
    "print(d_min)\n",
    "print(d_mean)"
   ]
  },
  {
   "cell_type": "markdown",
   "id": "a60fe8d4-303f-4b6d-b970-64a76ef8d209",
   "metadata": {},
   "source": [
    "# 15. Now we want to label the values in d. First create an empty array \"f\" with the same shape (i.e. 2x3x5) as d using `np.empty`.\n"
   ]
  },
  {
   "cell_type": "code",
   "execution_count": 41,
   "id": "0875d0ef-c1d9-4115-8201-19422fb2f6b5",
   "metadata": {
    "tags": []
   },
   "outputs": [
    {
     "data": {
      "text/plain": [
       "array([[[0.44119926, 0.07364057, 0.41491598, 0.20759116, 0.18868822],\n",
       "        [0.86147302, 0.0140996 , 0.68001684, 0.47812446, 0.29567583],\n",
       "        [0.17940963, 0.18732466, 0.57288108, 0.17277935, 0.91434247]],\n",
       "\n",
       "       [[0.85121329, 0.92842521, 0.43370408, 0.71083908, 0.37092579],\n",
       "        [0.2962207 , 0.23504265, 0.1583785 , 0.11702371, 0.19544287],\n",
       "        [0.04917019, 0.07555929, 0.11455642, 0.09126778, 0.61180491]]])"
      ]
     },
     "execution_count": 41,
     "metadata": {},
     "output_type": "execute_result"
    }
   ],
   "source": [
    "f = np.empty((2,3,5))\n",
    "f"
   ]
  },
  {
   "cell_type": "markdown",
   "id": "aa30b4fd-e780-474b-b471-794dcdf59a1c",
   "metadata": {},
   "source": [
    "\n",
    "\"\"\"\n",
    "# 16. Populate the values in f. For each value in d, if it's larger than d_min but smaller than d_mean, assign 25 to the corresponding value in f.\n",
    "If a value in d is larger than d_mean but smaller than d_max, assign 75 to the corresponding value in f.\n",
    "If a value equals to d_mean, assign 50 to the corresponding value in f.\n",
    "Assign 0 to the corresponding value(s) in f for d_min in d.\n",
    "Assign 100 to the corresponding value(s) in f for d_max in d.\n",
    "In the end, f should have only the following values: 0, 25, 50, 75, and 100.\n",
    "Note: you don't have to use Numpy in this question.\n",
    "\"\"\""
   ]
  },
  {
   "cell_type": "code",
   "execution_count": 52,
   "id": "99e81561-5fd4-469f-b733-c9279893caab",
   "metadata": {
    "tags": []
   },
   "outputs": [
    {
     "name": "stdout",
     "output_type": "stream",
     "text": [
      "Array 'f' después de la asignación:\n",
      "[[75. 25. 75. 25. 25.]\n",
      " [75.  0. 75. 75. 25.]\n",
      " [25. 25. 75. 25. 75.]]\n",
      "[[ 75. 100.  75.  75.  75.]\n",
      " [ 25.  25.  25.  25.  25.]\n",
      " [ 25.  25.  25.  25.  75.]]\n"
     ]
    }
   ],
   "source": [
    "for i in range(len(d)):\n",
    "    for j in range(len(d[i])):\n",
    "        value = d[i][j]  \n",
    "\n",
    "f[(d > d_min) & (d < d_mean)] = 25\n",
    "f[(d > d_mean) & (d < d_max)] = 75\n",
    "f[d == d_mean] = 50\n",
    "f[d == d_min] = 0\n",
    "f[d == d_max] = 100\n",
    "            \n",
    "print(\"Array 'f' después de la asignación:\")\n",
    "for row in f:\n",
    "    print(row)"
   ]
  },
  {
   "cell_type": "markdown",
   "id": "f2b7c8a0-6613-41a7-8e83-cc103d3dcf19",
   "metadata": {},
   "source": [
    "# 17. Print d and f. Do you have your expected f?\n",
    "For instance, if your d is:\n",
    "array([[[1.85836099, 1.67064465, 1.62576044, 1.40243961, 1.88454931],\n",
    "        [1.75354326, 1.69403643, 1.36729252, 1.61415071, 1.12104981],\n",
    "        [1.72201435, 1.1862918 , 1.87078449, 1.7726778 , 1.88180042]],\n",
    "\n",
    "       [[1.44747908, 1.31673383, 1.02000951, 1.52218947, 1.97066381],\n",
    "        [1.79129243, 1.74983003, 1.96028037, 1.85166831, 1.65450881],\n",
    "        [1.18068344, 1.9587381 , 1.00656599, 1.93402165, 1.73514584]]])\n",
    "\n",
    "Your f should be:\n",
    "array([[[ 75.,  75.,  75.,  25.,  75.],\n",
    "        [ 75.,  75.,  25.,  25.,  25.],\n",
    "        [ 75.,  25.,  75.,  75.,  75.]],\n",
    "\n",
    "       [[ 25.,  25.,  25.,  25., 100.],\n",
    "        [ 75.,  75.,  75.,  75.,  75.],\n",
    "        [ 25.,  75.,   0.,  75.,  75.]]])\n",
    "\"\"\"\n"
   ]
  },
  {
   "cell_type": "code",
   "execution_count": 50,
   "id": "49d61085-ef11-44cf-a7d7-e3b46a9058db",
   "metadata": {
    "tags": []
   },
   "outputs": [
    {
     "name": "stdout",
     "output_type": "stream",
     "text": [
      "[[[1.44119926 1.07364057 1.41491598 1.20759116 1.18868822]\n",
      "  [1.86147302 1.0140996  1.68001684 1.47812446 1.29567583]\n",
      "  [1.17940963 1.18732466 1.57288108 1.17277935 1.91434247]]\n",
      "\n",
      " [[1.85121329 1.92842521 1.43370408 1.71083908 1.37092579]\n",
      "  [1.2962207  1.23504265 1.1583785  1.11702371 1.19544287]\n",
      "  [1.04917019 1.07555929 1.11455642 1.09126778 1.61180491]]]\n",
      "[[[ 75.  25.  75.  25.  25.]\n",
      "  [ 75.   0.  75.  75.  25.]\n",
      "  [ 25.  25.  75.  25.  75.]]\n",
      "\n",
      " [[ 75. 100.  75.  75.  75.]\n",
      "  [ 25.  25.  25.  25.  25.]\n",
      "  [ 25.  25.  25.  25.  75.]]]\n"
     ]
    }
   ],
   "source": [
    "print(d)\n",
    "print(f)"
   ]
  },
  {
   "cell_type": "markdown",
   "id": "7ada0a70-e1fc-48a0-afef-049fc68cd0cf",
   "metadata": {},
   "source": [
    "\"\"\"\n",
    "# 18. Bonus question: instead of using numbers (i.e. 0, 25, 50, 75, and 100), how to use string values \n",
    "(\"A\", \"B\", \"C\", \"D\", and \"E\") to label the array elements? You are expecting the result to be:\n",
    "array([[[ 'D',  'D',  'D',  'B',  'D'],\n",
    "        [ 'D',  'D',  'B',  'B',  'B'],\n",
    "        [ 'D',  'B',  'D',  'D',  'D']],\n",
    "\n",
    "       [[ 'B',  'B',  'B',  'B',  'E'],\n",
    "        [ 'D',  'D',  'D',  'D',  'D'],\n",
    "        [ 'B',  'D',   'A',  'D', 'D']]])\n",
    "Again, you don't need Numpy in this question.\n",
    "\"\"\""
   ]
  },
  {
   "cell_type": "code",
   "execution_count": null,
   "id": "130f9d03-6906-4ad4-b792-14a57ce6c4ca",
   "metadata": {
    "tags": []
   },
   "outputs": [],
   "source": []
  },
  {
   "cell_type": "code",
   "execution_count": null,
   "id": "a88f7a52-fcda-4383-b44f-724c4efc6f64",
   "metadata": {},
   "outputs": [],
   "source": []
  }
 ],
 "metadata": {
  "kernelspec": {
   "display_name": "Python 3 (ipykernel)",
   "language": "python",
   "name": "python3"
  },
  "language_info": {
   "codemirror_mode": {
    "name": "ipython",
    "version": 3
   },
   "file_extension": ".py",
   "mimetype": "text/x-python",
   "name": "python",
   "nbconvert_exporter": "python",
   "pygments_lexer": "ipython3",
   "version": "3.11.5"
  }
 },
 "nbformat": 4,
 "nbformat_minor": 5
}
