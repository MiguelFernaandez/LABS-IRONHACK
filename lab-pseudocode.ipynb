{
 "cells": [
  {
   "cell_type": "markdown",
   "metadata": {},
   "source": [
    "# PSEUDOCODE\n",
    "\n",
    "(Please dont kill me)"
   ]
  },
  {
   "cell_type": "markdown",
   "metadata": {},
   "source": [
    "In this lab, you will work to find any solution(hopefully the easiest) to complete this exercises. \n",
    "\n",
    "The second 1 is a BONUS\n",
    "\n",
    "Any further question please ask me or Sandra"
   ]
  },
  {
   "cell_type": "markdown",
   "metadata": {},
   "source": [
    "## EXERCISE 1: RANDOM GUESS OF A NUMBER\n",
    "\n",
    "The user must give you the start and final number. Your code must be developed to select a random number between this 2. If your selection is too high/low you must give a hint to the user: The number is too high/low. Finally, when the user selects the correct number you must return a \"Congratulations etc\" and the number of guesses needed to find the number. \n",
    "\n",
    "IF YOU TRY IT AND YOU FIND THE NUMBER FIRST GUESS, PLEASE SEND A SCREENSHOT VIA SLACK `(MANDATORY)`"
   ]
  },
  {
   "cell_type": "code",
   "execution_count": 5,
   "metadata": {},
   "outputs": [],
   "source": [
    "#importar random\n",
    "# que el ordenador selecione un numero\n",
    "# definir variables que usaremos en el while loop\n",
    "# hscer un while loop donde se itere sobre la respuesta del usuario\n",
    "    # si es == al numero del ordenador\n",
    "        # felicitaciones\n",
    "        # has tenido 'tantos' intentos\n",
    "    # si no es el numero\n",
    "        # has fallado (too low)\n",
    "        # pedir otro input"
   ]
  },
  {
   "cell_type": "code",
   "execution_count": 18,
   "metadata": {},
   "outputs": [
    {
     "name": "stdout",
     "output_type": "stream",
     "text": [
      "60 was too high, try again.\n",
      "40 was too high, try again.\n",
      "20 was too low, try again.\n",
      "30 was too high, try again.\n",
      "30 was too high, try again.\n",
      "23 was too low, try again.\n",
      "You guessed the number, good job. \n",
      "The number was 26\n",
      "number of attempts: 6\n"
     ]
    }
   ],
   "source": [
    "import random\n",
    "guess_num = random.randint(1, 100)\n",
    "first_guess = int(input(f\"Escribe un numero del 1 al 100\"))\n",
    "num_guess = 0\n",
    "while first_guess != guess_num:\n",
    "    if first_guess > guess_num:\n",
    "        print(f\"{first_guess} was too high, try again.\")\n",
    "        num_guess += 1\n",
    "        first_guess = int(input(f\"Escribe un numero del 1 al 100\"))\n",
    "    elif first_guess < guess_num:\n",
    "        print(f\"{first_guess} was too low, try again.\")\n",
    "        num_guess += 1\n",
    "\n",
    "        first_guess = int(input(f\"Escribe un numero del 1 al 100\"))\n",
    "\n",
    "print(f\"You guessed the number, good job. \\nThe number was {guess_num}\")\n",
    "print(f\"number of attempts: {num_guess}\")\n"
   ]
  },
  {
   "cell_type": "markdown",
   "metadata": {},
   "source": [
    "## EXERCISE 2 (OPTIONAL): LET'S DEVELOP R-P-S"
   ]
  },
  {
   "cell_type": "markdown",
   "metadata": {},
   "source": [
    "Let's develop the code used in class: The R-P-S (Example below)\n",
    "The main problem with this code is that whoever wins a round, wins the match: The user must select the number of rounds needed to win the match. Enjoy!"
   ]
  },
  {
   "cell_type": "code",
   "execution_count": null,
   "metadata": {},
   "outputs": [],
   "source": [
    "def rps(): \n",
    "    import random\n",
    "    opciones=[\"tijera\", \"piedra\", \"papel\"]\n",
    "    user=input(\"Un dos tres, piedra papel tijera un dos tres YA: \").lower()\n",
    "    cpu=random.choice(opciones)\n",
    "\n",
    "    while True:\n",
    "        if user in opciones: \n",
    "            break\n",
    "        else: \n",
    "            user=input(\"ESO NO VALE. Dime otra cosa: \")\n",
    "    print(f\"Tú has elegido {user} y la máquina ha elegido {cpu}\")\n",
    "    if (user==\"tijera\" and cpu==\"papel\") or (user==\"papel\" and cpu==\"piedra\") or (user==\"piedra\" and cpu==\"tijera\"):\n",
    "        print(\"Has ganado!!\")\n",
    "        return \"Ganador\"\n",
    "    elif user==cpu:\n",
    "        print(\"Empate!\")\n",
    "        return \"Empate\"\n",
    "\n",
    "    else: \n",
    "        print(\"Has perdido!\")\n",
    "        return \"Perdedor\""
   ]
  }
 ],
 "metadata": {
  "kernelspec": {
   "display_name": "toni2",
   "language": "python",
   "name": "python3"
  },
  "language_info": {
   "codemirror_mode": {
    "name": "ipython",
    "version": 3
   },
   "file_extension": ".py",
   "mimetype": "text/x-python",
   "name": "python",
   "nbconvert_exporter": "python",
   "pygments_lexer": "ipython3",
   "version": "3.11.5"
  }
 },
 "nbformat": 4,
 "nbformat_minor": 2
}
