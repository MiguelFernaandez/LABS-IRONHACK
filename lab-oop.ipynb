{
 "cells": [
  {
   "cell_type": "markdown",
   "metadata": {},
   "source": [
    "# OOP\n",
    "\n",
    "In this lab we will put into practice what we have seen in class.\n",
    "\n",
    "`NOTE: It is split in two different Exercise: Do NOT try to change the order as the idea is to build a class from scratch using all the steps on each exercise` \n",
    "\n",
    "Good Luck! "
   ]
  },
  {
   "cell_type": "markdown",
   "metadata": {},
   "source": [
    "## Exercise 1: Car Class\n",
    "\n",
    "Use the origina code below to start with the exercise: "
   ]
  },
  {
   "cell_type": "code",
   "execution_count": 28,
   "metadata": {},
   "outputs": [],
   "source": [
    "class Car:\n",
    "    def __init__(self, color): \n",
    "        self.color = color"
   ]
  },
  {
   "cell_type": "markdown",
   "metadata": {},
   "source": [
    "### 1.1: Basic Info\n",
    "\n",
    "- This class Car is incomplete. We need to have more attributes, in this case we will need the user to add the Brand of the car (p.e. Fiat, Volvo, etc\") and the number of wheels (always 4). Build the first function called info, where it should print all the information of the car.\n",
    "- Try using the upper, capitalize or lower methods of strings to make the print look realistic. "
   ]
  },
  {
   "cell_type": "code",
   "execution_count": 29,
   "metadata": {},
   "outputs": [],
   "source": [
    "# Your Code here\n",
    "class car:\n",
    "    def __init__(self, color, brand):\n",
    "        self.color=color\n",
    "        self.brand=brand\n",
    "        self.ruedas= 4\n",
    "    def info(self):\n",
    "        print(f\"Color: {self.color.capitalize()}\")\n",
    "        print(f\"Brand: {self.brand.upper()}\")\n",
    "        print(f\"Nº ruedas: {self.ruedas}\")"
   ]
  },
  {
   "cell_type": "code",
   "execution_count": 36,
   "metadata": {},
   "outputs": [
    {
     "name": "stdout",
     "output_type": "stream",
     "text": [
      "Color: Red\n",
      "Brand: BMW\n",
      "Nº ruedas: 4\n",
      "El motor esta OFF\n"
     ]
    }
   ],
   "source": [
    "# try your code with this example\n",
    "bmw = cars(color=\"red\", brand=\"bmw\")\n",
    "bmw.info()\n",
    "\n"
   ]
  },
  {
   "cell_type": "markdown",
   "metadata": {},
   "source": [
    "### 1.2: Turn On/Off\n",
    "\n",
    "- Set a new attribute called `engine`. In it there will only be two options, ON and OFF. Originally, this new attribute will be OFF as the car engine will be OFF. \n",
    "- Create two more methods called `encender` and `apagar`. Take into consideration that if the car is ON and you try the encender, a message should be printed: \"No se puede encender "
   ]
  },
  {
   "cell_type": "code",
   "execution_count": 37,
   "metadata": {},
   "outputs": [],
   "source": [
    "# Your Code here: \n",
    "class cars:\n",
    "    def __init__(self, color, brand):\n",
    "        self.color=color\n",
    "        self.brand=brand\n",
    "        self.ruedas= 4\n",
    "        self.engine= \"OFF\"\n",
    "    def info(self):\n",
    "        print(f\"Color: {self.color.capitalize()}\")\n",
    "        print(f\"Brand: {self.brand.upper()}\")\n",
    "        print(f\"Nº ruedas: {self.ruedas}\")\n",
    "        print(f\"El motor esta {self.engine}\")\n",
    "    def encender(self):\n",
    "        if self.engine == \"OFF\":\n",
    "            print(\"El coche esta encendido\")\n",
    "            self.engine = \"ON\"\n",
    "        else:\n",
    "            print(\"El coche ya esta encendido\")\n",
    "    def apagar(self):\n",
    "        if self.engine == \"ON\":\n",
    "            print(\"Coche apagado\")\n",
    "            self.engine = \"OFF\"\n",
    "        else:\n",
    "            print(\"El coche ya estaba apagado\")\n",
    "\n",
    "\n"
   ]
  },
  {
   "cell_type": "code",
   "execution_count": 42,
   "metadata": {},
   "outputs": [
    {
     "name": "stdout",
     "output_type": "stream",
     "text": [
      "El coche ya estaba apagado\n",
      "El coche esta encendido\n",
      "Coche apagado\n"
     ]
    }
   ],
   "source": [
    "#Try the method a couple of times to see if the behaviour of the car is working well (p.e. dos veces función encendida o 2 veces función apagada)\n",
    "\n",
    "mi_coche = cars(color=\"Azul\", brand=\"volvo\")\n",
    "mi_coche.apagar()\n",
    "mi_coche.encender()\n",
    "mi_coche.apagar()\n"
   ]
  },
  {
   "cell_type": "markdown",
   "metadata": {},
   "source": [
    "### 1.3 Accelerate/reduce/break\n",
    "\n",
    "Here we are going to set a new attribute: `speed`. The original speed of each vehicle must be 0. We will then add three methods: acelerar, reducir and frenar. `acelerar` will increase the speed, `reducir` will reduce it and `frenar` will take it back to 0 again. \n",
    "Extra conditions: \n",
    "\n",
    "Try tu use the logic to know some basic interactions between this methods and the methods seen in 1.2. First try it yourself before revealing the hidden information!\n",
    "\n",
    "\n",
    "<details>\n",
    "    <summary> Expand the box to see the logic between methods </summary>\n",
    "    \n",
    "- The engine must be ON to use this 3 new method\n",
    "\n",
    "- If the speed is different to 0, you can not use the `apagar` method\n",
    "\n",
    "- If you use `reducir` to a number that makes the speed in negative numbers, you can not use reducir.  \n",
    "\n",
    "- To avoid using the `__dict__`, add the speed and the engine state as new info in the `info` method\n",
    "\n",
    "- For both `acelerar` and `reducir`, everytime you use this method you must send an argument (how much is the car accelerating and reducing everytime you call this function)\n",
    "\n",
    "</details>\n"
   ]
  },
  {
   "cell_type": "code",
   "execution_count": 60,
   "metadata": {},
   "outputs": [],
   "source": [
    "# Your Code here: \n",
    "# Your Code here: \n",
    "class cars:\n",
    "    def __init__(self, color, brand):\n",
    "        self.color=color\n",
    "        self.brand=brand\n",
    "        self.ruedas= 4\n",
    "        self.engine= \"OFF\"\n",
    "        self.speed= 0\n",
    "    def info(self):\n",
    "        print(f\"Color: {self.color.capitalize()}\")\n",
    "        print(f\"Brand: {self.brand.upper()}\")\n",
    "        print(f\"Nº ruedas: {self.ruedas}\")\n",
    "        print(f\"El motor esta {self.engine}\")\n",
    "        print(f\"la velocidad es: {self.speed}\")\n",
    "    def encender(self):\n",
    "        if self.engine == \"OFF\":\n",
    "            print(\"El coche esta encendido\")\n",
    "            self.engine = \"ON\"\n",
    "        else:\n",
    "            print(\"El coche ya esta encendido\")\n",
    "    def apagar(self):\n",
    "        if self.engine == \"ON\":\n",
    "            print(\"Coche apagado\")\n",
    "            self.engine = \"OFF\"\n",
    "        else:\n",
    "            print(\"El coche ya estaba apagado\")\n",
    "    def acelerar(self, x:int):\n",
    "        if self.engine == \"ON\":\n",
    "            self.speed += 1 + x\n",
    "            print(self.speed)\n",
    "        else:\n",
    "            print(\"Debes encender el coche antes\")\n",
    "\n",
    "    def reducir(self, x:int): # aqui no pongo que debe estar encendido por que para frenar no hace falta el motor encendido\n",
    "        self.speed -= 1\n",
    "        print(self.speed)\n",
    "    def frenar(self): # lo mismo para frenar\n",
    "        self.speed = 0\n",
    "        print(self.speed)\n"
   ]
  },
  {
   "cell_type": "code",
   "execution_count": 61,
   "metadata": {},
   "outputs": [],
   "source": [
    "#Try combos with this same car!\n",
    "bmw=cars(\"rojo\", \"BMW\")"
   ]
  },
  {
   "cell_type": "code",
   "execution_count": 62,
   "metadata": {},
   "outputs": [
    {
     "name": "stdout",
     "output_type": "stream",
     "text": [
      "Color: Rojo\n",
      "Brand: BMW\n",
      "Nº ruedas: 4\n",
      "El motor esta OFF\n",
      "la velocidad es: 0\n",
      "El coche esta encendido\n",
      "6\n",
      "5\n",
      "Color: Rojo\n",
      "Brand: BMW\n",
      "Nº ruedas: 4\n",
      "El motor esta ON\n",
      "la velocidad es: 5\n",
      "Coche apagado\n",
      "El coche ya estaba apagado\n"
     ]
    }
   ],
   "source": [
    "#Try all the combinations you like and see if it works!\n",
    "\n",
    "#bmw.info()\n",
    "bmw.info()\n",
    "#bmw.encender()\n",
    "bmw.encender()\n",
    "#bmw.acelerar(5)\n",
    "bmw.acelerar(5)\n",
    "#bmw.reducir(4)\n",
    "bmw.reducir(4)\n",
    "#bmw.info()\n",
    "bmw.info()\n",
    "#bmw.apagar()\n",
    "bmw.apagar()\n",
    "#bmw.frenar()\n",
    "bmw.frenar\n",
    "#bmw.apagar()\n",
    "bmw.apagar()"
   ]
  },
  {
   "cell_type": "code",
   "execution_count": 63,
   "metadata": {},
   "outputs": [
    {
     "name": "stdout",
     "output_type": "stream",
     "text": [
      "Color: Rojo\n",
      "Brand: BMW\n",
      "Nº ruedas: 4\n",
      "El motor esta OFF\n",
      "la velocidad es: 5\n"
     ]
    }
   ],
   "source": [
    "bmw.info()"
   ]
  },
  {
   "cell_type": "markdown",
   "metadata": {},
   "source": [
    "### 1.4 Maximum Speed\n",
    "\n",
    "We will now set a new parameter the user should introduce: `max_speed`. If the user do NOT set this parameter, the **default value** should be 120\n",
    "\n",
    "(the code should work for both Car(\"blue\", \"FIAT\") and Car(\"purple\", \"Mini\", 130) )\n",
    "\n",
    "The only thing that must change from the previous code is that your speed can NEVER be over the limit of the car. If you try to accelerate more, the speed of the car will be max_speed. "
   ]
  },
  {
   "cell_type": "code",
   "execution_count": 79,
   "metadata": {},
   "outputs": [],
   "source": [
    "# Your Code here: \n",
    "class cars:\n",
    "    def __init__(self, color, brand, speed=0):\n",
    "        self.color=color\n",
    "        self.brand=brand\n",
    "        self.ruedas= 4\n",
    "        self.engine= \"OFF\"\n",
    "        self.speed= speed\n",
    "        self.max_speed = 120\n",
    "    def info(self):\n",
    "        print(f\"Color: {self.color.capitalize()}\")\n",
    "        print(f\"Brand: {self.brand.upper()}\")\n",
    "        print(f\"Nº ruedas: {self.ruedas}\")\n",
    "        print(f\"El motor esta {self.engine}\")\n",
    "        print(f\"la velocidad es: {self.speed}\")\n",
    "    def encender(self):\n",
    "        if self.engine == \"OFF\":\n",
    "            print(\"El coche esta encendido\")\n",
    "            self.engine = \"ON\"\n",
    "        else:\n",
    "            print(\"El coche ya esta encendido\")\n",
    "    def apagar(self):\n",
    "        if self.engine == \"ON\":\n",
    "            print(\"Coche apagado\")\n",
    "            self.engine = \"OFF\"\n",
    "        else:\n",
    "            print(\"El coche ya estaba apagado\")\n",
    "    def acelerar(self, x=1):\n",
    "        if self.engine == \"ON\":\n",
    "            if self.speed <= 120:\n",
    "                self.speed +=  x\n",
    "                print(self.speed)\n",
    "            else:\n",
    "                print(f\"Vas demasiado rapido, frena un poquito. {self.speed}\")\n",
    "        else:\n",
    "            print(\"Debes encender el coche antes\")\n",
    "\n",
    "    def reducir(self, x=1): # aqui no pongo que debe estar encendido por que para frenar no hace falta el motor encendido\n",
    "        self.speed -= x\n",
    "        print(self.speed)\n",
    "    def frenar(self): # lo mismo para frenar\n",
    "        self.speed = 0\n",
    "        print(self.speed)\n",
    "    "
   ]
  },
  {
   "cell_type": "code",
   "execution_count": 83,
   "metadata": {},
   "outputs": [
    {
     "name": "stdout",
     "output_type": "stream",
     "text": [
      "El coche esta encendido\n",
      "Vas demasiado rapido, frena un poquito. 130\n",
      "60\n",
      "Coche apagado\n",
      "Color: Red\n",
      "Brand: FIAT\n",
      "Nº ruedas: 4\n",
      "El motor esta OFF\n",
      "la velocidad es: 60\n"
     ]
    }
   ],
   "source": [
    "#try the code here: \n",
    "fiat=cars(\"red\", \"Fiat\", 130)\n",
    "fiat.encender()\n",
    "fiat.acelerar()\n",
    "fiat.reducir(70)\n",
    "fiat.apagar()\n",
    "fiat.info()"
   ]
  },
  {
   "cell_type": "markdown",
   "metadata": {},
   "source": [
    "## Exercise 2: Inheritance\n",
    "\n",
    "Let's recover this example set in our class: "
   ]
  },
  {
   "cell_type": "code",
   "execution_count": 85,
   "metadata": {},
   "outputs": [],
   "source": [
    "class Staff ():\n",
    "        \n",
    "    def __init__ (self, name, fname):\n",
    "        self.name = name.capitalize()\n",
    "        self.fname = fname\n",
    "        \n",
    "        # Default\n",
    "        self.time_off = 20\n",
    "        \n",
    "        #Default: as a result\n",
    "        self.email = self.name.lower() + \".\" + self.fname.lower() + \"@ironhack.com\"\n",
    "        \n",
    "        self.hobbies = []\n",
    "        \n",
    "    \n",
    "    def introduce (self):\n",
    "        return f\"Hello, my name is {self.name}!\"\n",
    "    \n",
    "    def takes_days_off (self, number):\n",
    "        if self.time_off-number >= 0:\n",
    "            self.time_off -= number\n",
    "            return f\"Now you have {self.time_off} days off available\"\n",
    "        else:\n",
    "            return f\"Sorry, you ran out of days. Your total time_off available is {self.time_off}\"\n",
    "    \n",
    "    def hobbies_function (self, *hob): #passing an optional argument\n",
    "        if hob:\n",
    "            for i in hob:\n",
    "                self.hobbies.append(i)\n",
    "                print(f\"We added: {self.hobbies[-1]}\")\n",
    "            return self.hobbies_function()\n",
    "        else:\n",
    "            new = \", \".join([i for i in self.hobbies])\n",
    "            return f\"My hobbies are: {new}\""
   ]
  },
  {
   "cell_type": "markdown",
   "metadata": {},
   "source": [
    "### 2.1 Class Variable\n",
    "\n",
    "Create a class variable (attribute shared by everybody in the organization). This class variable will `company`, and it should be always **Ironhack**"
   ]
  },
  {
   "cell_type": "code",
   "execution_count": null,
   "metadata": {},
   "outputs": [],
   "source": [
    "# Your code here: \n",
    "class Staff ():\n",
    "    company = \"Ironhack\"\n",
    "    def __init__ (self, name, fname):\n",
    "        self.name = name.capitalize()\n",
    "        self.fname = fname\n",
    "        \n",
    "        # Default\n",
    "        self.time_off = 20\n",
    "        \n",
    "        #Default: as a result\n",
    "        self.email = self.name.lower() + \".\" + self.fname.lower() + \"@ironhack.com\"\n",
    "        \n",
    "        self.hobbies = []\n",
    "        \n",
    "    \n",
    "    def introduce (self):\n",
    "        return f\"Hello, my name is {self.name}!\"\n",
    "    \n",
    "    def takes_days_off (self, number):\n",
    "        if self.time_off-number >= 0:\n",
    "            self.time_off -= number\n",
    "            return f\"Now you have {self.time_off} days off available\"\n",
    "        else:\n",
    "            return f\"Sorry, you ran out of days. Your total time_off available is {self.time_off}\"\n",
    "    \n",
    "    def hobbies_function (self, *hob): #passing an optional argument\n",
    "        if hob:\n",
    "            for i in hob:\n",
    "                self.hobbies.append(i)\n",
    "                print(f\"We added: {self.hobbies[-1]}\")\n",
    "            return self.hobbies_function()\n",
    "        else:\n",
    "            new = \", \".join([i for i in self.hobbies])\n",
    "            return f\"My hobbies are: {new}\""
   ]
  },
  {
   "cell_type": "markdown",
   "metadata": {},
   "source": [
    "### 1.2 Info Method\n",
    "\n",
    "As in the previous exercise, set a method to know all the information related with each person: Name, Surname, Time_Off Available, Mail, hobbies and Company"
   ]
  },
  {
   "cell_type": "code",
   "execution_count": 90,
   "metadata": {},
   "outputs": [],
   "source": [
    "# Your code here: \n",
    "class Staff ():\n",
    "    company = \"Ironhack\"\n",
    "    def __init__ (self, name, fname):\n",
    "        self.name = name.capitalize()\n",
    "        self.fname = fname\n",
    "        \n",
    "        # Default\n",
    "        self.time_off = 20\n",
    "        \n",
    "        #Default: as a result\n",
    "        self.email = self.name.lower() + \".\" + self.fname.lower() + \"@ironhack.com\"\n",
    "        \n",
    "        self.hobbies = []\n",
    "        \n",
    "    \n",
    "    def introduce (self):\n",
    "        return f\"Hello, my name is {self.name}!\"\n",
    "    \n",
    "    def takes_days_off (self, number):\n",
    "        if self.time_off-number >= 0:\n",
    "            self.time_off -= number\n",
    "            return f\"Now you have {self.time_off} days off available\"\n",
    "        else:\n",
    "            return f\"Sorry, you ran out of days. Your total time_off available is {self.time_off}\"\n",
    "    \n",
    "    def hobbies_function (self, *hob): #passing an optional argument\n",
    "        if hob:\n",
    "            for i in hob:\n",
    "                self.hobbies.append(i)\n",
    "                print(f\"We added: {self.hobbies[-1]}\")\n",
    "            return self.hobbies_function()\n",
    "        else:\n",
    "            new = \", \".join([i for i in self.hobbies])\n",
    "            return f\"My hobbies are: {new}\"\n",
    "    def info(self):\n",
    "        print(f\"info de {self.name} {self.fname}:\")\n",
    "        print(f\"time off: {self.time_off}\")\n",
    "        print(f\"email: {self.email}\")\n",
    "        print(f\"hobbies: {self.hobbies}\")\n",
    "        print(f\"company: {self.company}\")\n",
    "\n"
   ]
  },
  {
   "cell_type": "code",
   "execution_count": 89,
   "metadata": {},
   "outputs": [
    {
     "name": "stdout",
     "output_type": "stream",
     "text": [
      "We added: Basketball\n",
      "We added: Board Games\n",
      "We added: Coding\n",
      "info de Gonzalo Quesada:\n",
      "time off: 15\n",
      "email: gonzalo.quesada@ironhack.com\n",
      "hobbies: ['Basketball', 'Board Games', 'Coding']\n",
      "company: Ironhack\n"
     ]
    }
   ],
   "source": [
    "# Try it here!!\n",
    "\n",
    "bestteacherever=Staff(\"Gonzalo\", \"Quesada\")\n",
    "bestteacherever.hobbies_function(\"Basketball\", \"Board Games\", \"Coding\")\n",
    "bestteacherever.takes_days_off(5)\n",
    "bestteacherever.info()"
   ]
  },
  {
   "cell_type": "markdown",
   "metadata": {},
   "source": [
    "### 1.3 Inheritance\n",
    "\n",
    "Now suppose the Marketing department works differently, but inside the organization. In other words, Staff will be the Parent Class and Marketing the Child. The differences are: \n",
    "\n",
    "- The mail must end with .mktg (for example, instead of laura.molas@ironhack.com it should be laura.molas.mktg@ironhack.com)\n",
    "- The total days they have of time_off is 30 (Lucky them...)\n",
    "- In addition, in the `introduce` method, they should salute the same as in Staff BUT adding that they are from the Marketing dpt. "
   ]
  },
  {
   "cell_type": "code",
   "execution_count": 91,
   "metadata": {},
   "outputs": [],
   "source": [
    "# Your code here: \n",
    "class Staff ():\n",
    "    company = \"Ironhack\"\n",
    "    def __init__ (self, name, fname):\n",
    "        self.name = name.capitalize()\n",
    "        self.fname = fname\n",
    "        \n",
    "        # Default\n",
    "        self.time_off = 20\n",
    "        \n",
    "        #Default: as a result\n",
    "        self.email = self.name.lower() + \".\" + self.fname.lower() + \"@ironhack.com\"\n",
    "        \n",
    "        self.hobbies = []\n",
    "        \n",
    "    \n",
    "    def introduce (self):\n",
    "        return f\"Hello, my name is {self.name}!\"\n",
    "    \n",
    "    def takes_days_off (self, number):\n",
    "        if self.time_off-number >= 0:\n",
    "            self.time_off -= number\n",
    "            return f\"Now you have {self.time_off} days off available\"\n",
    "        else:\n",
    "            return f\"Sorry, you ran out of days. Your total time_off available is {self.time_off}\"\n",
    "    \n",
    "    def hobbies_function (self, *hob): #passing an optional argument\n",
    "        if hob:\n",
    "            for i in hob:\n",
    "                self.hobbies.append(i)\n",
    "                print(f\"We added: {self.hobbies[-1]}\")\n",
    "            return self.hobbies_function()\n",
    "        else:\n",
    "            new = \", \".join([i for i in self.hobbies])\n",
    "            return f\"My hobbies are: {new}\"\n",
    "    def info(self):\n",
    "        print(f\"info de {self.name} {self.fname}:\")\n",
    "        print(f\"time off: {self.time_off}\")\n",
    "        print(f\"email: {self.email}\")\n",
    "        print(f\"hobbies: {self.hobbies}\")\n",
    "        print(f\"company: {self.company}\")\n",
    "class Marketing(Staff):\n",
    "    def __init__(self, name, fname):\n",
    "        super().__init__(name, fname)\n",
    "        self.time_off = 30\n",
    "        self.email = f\"{self.name.lower()}.{self.fname.lower()}.mktg@{self.company.lower()}.com\"\n",
    "\n",
    "    def introduce(self):\n",
    "        parent_intro = super().introduce()\n",
    "        return f\"{parent_intro} I am from the Marketing department.\""
   ]
  },
  {
   "cell_type": "code",
   "execution_count": 92,
   "metadata": {},
   "outputs": [
    {
     "name": "stdout",
     "output_type": "stream",
     "text": [
      "We added: Photography\n",
      "We added: Animals\n",
      "info de Laura Molas:\n",
      "time off: 30\n",
      "email: laura.molas.mktg@ironhack.com\n",
      "hobbies: ['Photography', 'Animals']\n",
      "company: Ironhack\n"
     ]
    },
    {
     "data": {
      "text/plain": [
       "'Hello, my name is Laura! I am from the Marketing department.'"
      ]
     },
     "execution_count": 92,
     "metadata": {},
     "output_type": "execute_result"
    }
   ],
   "source": [
    "#Try if your Class is well defined with this example: \n",
    "mktg=Marketing(\"Laura\", \"Molas\")\n",
    "mktg.hobbies_function(\"Photography\", \"Animals\")\n",
    "mktg.info()\n",
    "mktg.introduce()"
   ]
  },
  {
   "cell_type": "code",
   "execution_count": null,
   "metadata": {},
   "outputs": [],
   "source": []
  }
 ],
 "metadata": {
  "kernelspec": {
   "display_name": "local",
   "language": "python",
   "name": "python3"
  },
  "language_info": {
   "codemirror_mode": {
    "name": "ipython",
    "version": 3
   },
   "file_extension": ".py",
   "mimetype": "text/x-python",
   "name": "python",
   "nbconvert_exporter": "python",
   "pygments_lexer": "ipython3",
   "version": "3.11.5"
  }
 },
 "nbformat": 4,
 "nbformat_minor": 2
}
