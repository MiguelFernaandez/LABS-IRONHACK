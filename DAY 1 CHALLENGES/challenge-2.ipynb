{
 "cells": [
  {
   "cell_type": "markdown",
   "metadata": {},
   "source": [
    "## Challenge 2: Sets\n",
    "\n",
    "There are a lot to learn about Python Sets and the information presented in the lesson is limited due to its length. To learn Python Sets in depth you are strongly encouraged to review the W3Schools tutorial on [Python Sets Examples and Methods](https://www.w3schools.com/python/python_sets.asp) before you work on this lab. Some difficult questions in this lab have their solutions in the W3Schools tutorial.\n",
    "\n",
    "#### First, import the Python `random` library."
   ]
  },
  {
   "cell_type": "code",
   "execution_count": 8,
   "metadata": {
    "tags": []
   },
   "outputs": [],
   "source": [
    "import random"
   ]
  },
  {
   "cell_type": "markdown",
   "metadata": {},
   "source": [
    "#### In the cell below, create a list named `sample_list_1` with 80 random values. \n",
    "\n",
    "Requirements:\n",
    "\n",
    "* Each value is an integer falling between 0 and 100.\n",
    "* Each value in the list is unique.\n",
    "\n",
    "Print `sample_list_1` to review its values\n",
    "\n",
    "*Hint: use `random.sample` ([reference](https://docs.python.org/3/library/random.html#random.sample)).*"
   ]
  },
  {
   "cell_type": "code",
   "execution_count": 62,
   "metadata": {
    "tags": []
   },
   "outputs": [
    {
     "name": "stdout",
     "output_type": "stream",
     "text": [
      "[39, 0, 5, 81, 82, 7, 67, 36, 65, 3, 99, 62, 8, 4, 60, 79, 27, 31, 30, 55, 14, 56, 50, 51, 20, 2, 93, 96, 58, 33, 45, 49, 9, 28, 73, 72, 83, 59, 76, 91, 53, 85, 87, 74, 15, 88, 46, 16, 12, 38, 44, 54, 86, 10, 90, 78, 57, 1, 84, 97, 19, 63, 98, 69, 48, 35, 11, 42, 47, 43, 61, 40, 26, 68, 95, 89, 94, 70, 41, 75]\n"
     ]
    }
   ],
   "source": [
    "sample_list_1 = random.sample(range(101), k=80)\n",
    "# Your code here\n",
    "print(sample_list_1)"
   ]
  },
  {
   "cell_type": "code",
   "execution_count": 63,
   "metadata": {},
   "outputs": [
    {
     "name": "stdout",
     "output_type": "stream",
     "text": [
      "Conjunto de números enteros: {0, 1, 2, 3, 4, 5, 7, 8, 9, 10, 11, 12, 14, 15, 16, 19, 20, 26, 27, 28, 30, 31, 33, 35, 36, 38, 39, 40, 41, 42, 43, 44, 45, 46, 47, 48, 49, 50, 51, 53, 54, 55, 56, 57, 58, 59, 60, 61, 62, 63, 65, 67, 68, 69, 70, 72, 73, 74, 75, 76, 78, 79, 81, 82, 83, 84, 85, 86, 87, 88, 89, 90, 91, 93, 94, 95, 96, 97, 98, 99}\n"
     ]
    }
   ],
   "source": [
    "# Como puedo comprobar si los numeros de una lista son enteros\n",
    "lista_num = set()\n",
    "for i in sample_list_1:\n",
    "    if isinstance(i, int): # isinstance sirve para comprobar si una variable es un data type especifico\n",
    "        lista_num.add(i) # isinstance(variable, datatype) output: true or false\n",
    "\n",
    "print(\"Conjunto de números enteros:\", lista_num)"
   ]
  },
  {
   "cell_type": "markdown",
   "metadata": {},
   "source": [
    "#### Convert `sample_list_1` to a set called `set1`. Print the length of the set. Is its length still 80?"
   ]
  },
  {
   "cell_type": "code",
   "execution_count": 64,
   "metadata": {
    "tags": []
   },
   "outputs": [
    {
     "name": "stdout",
     "output_type": "stream",
     "text": [
      "80\n"
     ]
    }
   ],
   "source": [
    "# Gets the count of the unique values \n",
    "sit1 = set(sample_list_1)\n",
    "print(len(sit1))"
   ]
  },
  {
   "cell_type": "markdown",
   "metadata": {},
   "source": [
    "#### Create another list named `sample_list_2` with 80 random values.\n",
    "\n",
    "Requirements:\n",
    "\n",
    "* Each value is an integer falling between 0 and 100.\n",
    "* The values in the list don't have to be unique.\n",
    "\n",
    "*Hint: Use a FOR loop.*"
   ]
  },
  {
   "cell_type": "code",
   "execution_count": 65,
   "metadata": {
    "tags": []
   },
   "outputs": [
    {
     "name": "stdout",
     "output_type": "stream",
     "text": [
      "80\n",
      "sample_list_2: [95, 43, 62, 28, 73, 79, 100, 6, 34, 58, 76, 16, 50, 59, 81, 42, 99, 75, 9, 93, 55, 92, 44, 57, 87, 50, 73, 15, 66, 53, 9, 66, 33, 53, 91, 40, 65, 91, 30, 85, 9, 42, 88, 91, 73, 65, 66, 88, 34, 13, 9, 45, 78, 91, 93, 82, 36, 22, 44, 23, 21, 70, 43, 2, 7, 21, 98, 5, 72, 40, 95, 60, 56, 4, 43, 18, 89, 38, 26, 16]\n"
     ]
    }
   ],
   "source": [
    "sample_list_2 = [random.randint(0, 100) for i in range(80)]\n",
    "print(len(sample_list_2))\n",
    "print(\"sample_list_2:\", sample_list_2)"
   ]
  },
  {
   "cell_type": "markdown",
   "metadata": {},
   "source": [
    "#### Convert `sample_list_2` to a set called `set2`. Print the length of the set. Is its length still 80?"
   ]
  },
  {
   "cell_type": "code",
   "execution_count": 66,
   "metadata": {
    "tags": []
   },
   "outputs": [
    {
     "name": "stdout",
     "output_type": "stream",
     "text": [
      "80\n"
     ]
    }
   ],
   "source": [
    "# Your code here\n",
    "set2 = set(sample_list_2)\n",
    "print(len(sample_list_2))"
   ]
  },
  {
   "cell_type": "markdown",
   "metadata": {},
   "source": [
    "#### Identify the elements present in `set1` but not in `set2`. Assign the elements to a new set named `set3`."
   ]
  },
  {
   "cell_type": "code",
   "execution_count": 67,
   "metadata": {
    "tags": []
   },
   "outputs": [
    {
     "name": "stdout",
     "output_type": "stream",
     "text": [
      "{0, 1, 3, 8, 10, 11, 12, 14, 19, 20, 27, 31, 35, 39, 41, 46, 47, 48, 49, 51, 54, 61, 63, 67, 68, 69, 74, 83, 84, 86, 90, 94, 96, 97}\n",
      "[2, 4, 5, 7, 9, 15, 16, 26, 28, 30, 33, 36, 38, 40, 42, 43, 44, 45, 50, 53, 55, 56, 57, 58, 59, 60, 62, 65, 70, 72, 73, 75, 76, 78, 79, 81, 82, 85, 87, 88, 89, 91, 93, 95, 98, 99]\n",
      "{2, 4, 5, 7, 9, 15, 16, 26, 28, 30, 33, 36, 38, 40, 42, 43, 44, 45, 50, 53, 55, 56, 57, 58, 59, 60, 62, 65, 70, 72, 73, 75, 76, 78, 79, 81, 82, 85, 87, 88, 89, 91, 93, 95, 98, 99}\n",
      "<class 'set'>\n"
     ]
    }
   ],
   "source": [
    "# Your code here\n",
    "set3 = set()\n",
    "num_unique =  []\n",
    "for i in sit1:\n",
    "    if i in set2:\n",
    "        num_unique.append(i)\n",
    "    else:\n",
    "        set3.add(i)\n",
    "        \n",
    "print(set3)\n",
    "print(num_unique)\n",
    "num_unique = set(num_unique)\n",
    "print(num_unique)\n",
    "print(type(num_unique))"
   ]
  },
  {
   "cell_type": "markdown",
   "metadata": {},
   "source": [
    "#### Identify the elements present in `set2` but not in `set1`. Assign the elements to a new set named `set4`."
   ]
  },
  {
   "cell_type": "code",
   "execution_count": 68,
   "metadata": {},
   "outputs": [
    {
     "name": "stdout",
     "output_type": "stream",
     "text": [
      "{34, 66, 100, 6, 13, 18, 21, 22, 23, 92}\n",
      "{2, 4, 5, 7, 9, 15, 16, 26, 28, 30, 33, 36, 38, 40, 42, 43, 44, 45, 50, 53, 55, 56, 57, 58, 59, 60, 62, 65, 70, 72, 73, 75, 76, 78, 79, 81, 82, 85, 87, 88, 89, 91, 93, 95, 98, 99}\n"
     ]
    }
   ],
   "source": [
    "# Your code here\n",
    "num_r = set()\n",
    "set4 = set()\n",
    "for i in set2:\n",
    "    if i in sit1:\n",
    "        num_r.add(i)\n",
    "    else: \n",
    "        set4.add(i)\n",
    "    \n",
    "print(set4)\n",
    "print(num_r)\n",
    "\n"
   ]
  },
  {
   "cell_type": "markdown",
   "metadata": {},
   "source": [
    "#### Now Identify the elements shared between `set1` and `set2`. Assign the elements to a new set named `set5`."
   ]
  },
  {
   "cell_type": "code",
   "execution_count": 69,
   "metadata": {},
   "outputs": [
    {
     "name": "stdout",
     "output_type": "stream",
     "text": [
      "{2, 4, 5, 7, 9, 15, 16, 26, 28, 30, 33, 36, 38, 40, 42, 43, 44, 45, 50, 53, 55, 56, 57, 58, 59, 60, 62, 65, 70, 72, 73, 75, 76, 78, 79, 81, 82, 85, 87, 88, 89, 91, 93, 95, 98, 99}\n"
     ]
    }
   ],
   "source": [
    "# Your code here\n",
    "set5 = set(num_unique)\n",
    "print(set5)"
   ]
  },
  {
   "cell_type": "markdown",
   "metadata": {},
   "source": [
    "#### What is the relationship among the following values:\n",
    "\n",
    "* len(set1)\n",
    "* len(set2)\n",
    "* len(set3)\n",
    "* len(set4)\n",
    "* len(set5)\n",
    "\n",
    "Use a math formular to represent that relationship. Test your formular with Python code."
   ]
  },
  {
   "cell_type": "code",
   "execution_count": 70,
   "metadata": {},
   "outputs": [
    {
     "name": "stdout",
     "output_type": "stream",
     "text": [
      "80\n",
      "56\n",
      "34\n",
      "10\n",
      "46\n",
      "True\n",
      "False\n",
      "True\n",
      "False\n",
      "True\n",
      "True\n"
     ]
    }
   ],
   "source": [
    "# Your code here\n",
    "print(len(sit1))\n",
    "print(len(set2))\n",
    "print(len(set3))\n",
    "print(len(set4))\n",
    "print(len(set5))\n",
    "\n",
    "print(len(sit1) == len(set3) + len(set5))\n",
    "print(len(set3) == len(sit1) - len(set2))\n",
    "print(len(set4) == len(set2) - len(set5))\n",
    "print(len(sit1) == len(set2) + len(set4))\n",
    "print(len(set3) <= len(sit1))\n",
    "print(len(set5) <= len(sit1))"
   ]
  },
  {
   "cell_type": "markdown",
   "metadata": {},
   "source": [
    "#### Create an empty set called `set6`."
   ]
  },
  {
   "cell_type": "code",
   "execution_count": 71,
   "metadata": {},
   "outputs": [],
   "source": [
    "# Your code here\n",
    "set6 = set()"
   ]
  },
  {
   "cell_type": "markdown",
   "metadata": {},
   "source": [
    "#### Add `set3` and `set5` to `set6` using the Python Set `update` method."
   ]
  },
  {
   "cell_type": "code",
   "execution_count": 72,
   "metadata": {},
   "outputs": [],
   "source": [
    "# Your code here\n",
    "set6.update(set3)\n",
    "set6.update(set6)\n"
   ]
  },
  {
   "cell_type": "markdown",
   "metadata": {},
   "source": [
    "#### Check if `set1` and `set6` are equal."
   ]
  },
  {
   "cell_type": "code",
   "execution_count": 73,
   "metadata": {},
   "outputs": [
    {
     "data": {
      "text/plain": [
       "False"
      ]
     },
     "execution_count": 73,
     "metadata": {},
     "output_type": "execute_result"
    }
   ],
   "source": [
    "# Your code here\n",
    "sit1 == set6"
   ]
  },
  {
   "cell_type": "markdown",
   "metadata": {},
   "source": [
    "#### Check if `set1` contains `set2` using the Python Set `issubset` method. Then check if `set1` contains `set3`.*"
   ]
  },
  {
   "cell_type": "code",
   "execution_count": 74,
   "metadata": {},
   "outputs": [
    {
     "name": "stdout",
     "output_type": "stream",
     "text": [
      "False\n",
      "False\n"
     ]
    }
   ],
   "source": [
    "# Your code here\n",
    "print(sit1.issubset(set2))\n",
    "print(sit1.issubset(set3))"
   ]
  },
  {
   "cell_type": "markdown",
   "metadata": {},
   "source": [
    "#### Using the Python Set `union` method, aggregate `set3`, `set4`, and `set5`. Then aggregate `set1` and `set2`. \n",
    "\n",
    "#### Check if the aggregated values are equal."
   ]
  },
  {
   "cell_type": "code",
   "execution_count": 75,
   "metadata": {},
   "outputs": [
    {
     "name": "stdout",
     "output_type": "stream",
     "text": [
      "{0, 1, 2, 3, 4, 5, 6, 7, 8, 9, 10, 11, 12, 13, 14, 15, 16, 18, 19, 20, 21, 22, 23, 26, 27, 28, 30, 31, 33, 34, 35, 36, 38, 39, 40, 41, 42, 43, 44, 45, 46, 47, 48, 49, 50, 51, 53, 54, 55, 56, 57, 58, 59, 60, 61, 62, 63, 65, 66, 67, 68, 69, 70, 72, 73, 74, 75, 76, 78, 79, 81, 82, 83, 84, 85, 86, 87, 88, 89, 90, 91, 92, 93, 94, 95, 96, 97, 98, 99, 100}\n"
     ]
    }
   ],
   "source": [
    "# Your code here\n",
    "set7 = sit1.union(set3, set4, set5)\n",
    "print(set7)\n"
   ]
  },
  {
   "cell_type": "markdown",
   "metadata": {},
   "source": [
    "#### Using the `pop` method, remove the first element from `set1`."
   ]
  },
  {
   "cell_type": "code",
   "execution_count": 76,
   "metadata": {},
   "outputs": [
    {
     "name": "stdout",
     "output_type": "stream",
     "text": [
      "Se a 'popeado' el numero 0\n"
     ]
    }
   ],
   "source": [
    "# your code here\n",
    "primer = sit1.pop()\n",
    "print(f\"Se a 'popeado' el numero {primer}\")"
   ]
  },
  {
   "cell_type": "markdown",
   "metadata": {},
   "source": [
    "#### Remove every element in the following list from `set1` if they are present in the set. Print the remaining elements.\n",
    "\n",
    "```\n",
    "list_to_remove = [1, 9, 11, 19, 21, 29, 31, 39, 41, 49, 51, 59, 61, 69, 71, 79, 81, 89, 91, 99]\n",
    "```"
   ]
  },
  {
   "cell_type": "code",
   "execution_count": 84,
   "metadata": {},
   "outputs": [
    {
     "name": "stdout",
     "output_type": "stream",
     "text": [
      "None\n",
      "Esta es la lista de numeros tras limpiarla: {2, 3, 4, 5, 7, 8, 10, 12, 14, 15, 16, 20, 26, 27, 28, 30, 33, 35, 36, 38, 40, 42, 43, 44, 45, 46, 47, 48, 50, 53, 54, 55, 56, 57, 58, 60, 62, 63, 65, 67, 68, 70, 72, 73, 74, 75, 76, 78, 82, 83, 84, 85, 86, 87, 88, 90, 93, 94, 95, 96, 97, 98}\n"
     ]
    }
   ],
   "source": [
    "# Your code here\n",
    "list_to_remove = [1, 9, 11, 19, 21, 29, 31, 39, 41, 49, 51, 59, 61, 69, 71, 79, 81, 89, 91, 99]\n",
    "list_to_remove.sort()\n",
    "sit1 = sit1 - set(list_to_remove)\n",
    "print(f\"Esta es la lista de numeros tras limpiarla: {sit1}\")"
   ]
  },
  {
   "cell_type": "code",
   "execution_count": null,
   "metadata": {},
   "outputs": [],
   "source": []
  }
 ],
 "metadata": {
  "kernelspec": {
   "display_name": "Python 3 (ipykernel)",
   "language": "python",
   "name": "python3"
  },
  "language_info": {
   "codemirror_mode": {
    "name": "ipython",
    "version": 3
   },
   "file_extension": ".py",
   "mimetype": "text/x-python",
   "name": "python",
   "nbconvert_exporter": "python",
   "pygments_lexer": "ipython3",
   "version": "3.11.5"
  },
  "nbTranslate": {
   "displayLangs": [
    "en",
    "es"
   ],
   "hotkey": "alt-a",
   "langInMainMenu": true,
   "sourceLang": "es",
   "targetLang": "en",
   "useGoogleTranslate": true
  },
  "toc": {
   "base_numbering": 1,
   "nav_menu": {},
   "number_sections": true,
   "sideBar": true,
   "skip_h1_title": false,
   "title_cell": "Table of Contents",
   "title_sidebar": "Contents",
   "toc_cell": false,
   "toc_position": {},
   "toc_section_display": true,
   "toc_window_display": false
  },
  "vscode": {
   "interpreter": {
    "hash": "aee8b7b246df8f9039afb4144a1f6fd8d2ca17a180786b69acc140d282b71a49"
   }
  }
 },
 "nbformat": 4,
 "nbformat_minor": 4
}
