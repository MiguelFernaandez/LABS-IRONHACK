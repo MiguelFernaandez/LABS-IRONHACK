{
 "cells": [
  {
   "cell_type": "markdown",
   "metadata": {},
   "source": [
    "# PANDAS LAB - Continuation of the EuroLeague Case Study\n",
    "## Let's compare the competitions!\n",
    "\n",
    "![](https://eurospects.com/wp-content/uploads/2018/10/eurocupeuroleague.png)\n",
    "\n",
    "First of all, we must \n",
    "\n",
    "- Import the actual.csv Dataset. This dataset will be the CSV of the result obtained in class.\n",
    "- Import ec23.xlsx. This dataset correspond to the import the dataset corresponding to Eurocup. Don't worry, this time the Excel will be cleaned (almost)\n",
    "\n",
    "<details>\n",
    "    <summary> Lab results </summary>\n",
    "\n",
    "![](https://media1.tenor.com/m/lx2WSGRk8bcAAAAC/pulp-fiction-john-travolta.gif)\n",
    "\n",
    "PERO QUÉ OS HABÉIS CREÍDO\n",
    "\n",
    "</details>"
   ]
  },
  {
   "cell_type": "code",
   "execution_count": 88,
   "metadata": {},
   "outputs": [],
   "source": [
    "#pip install openpyxl\n",
    "# In case there is an error with this .xlsx document opening, install this library"
   ]
  },
  {
   "cell_type": "code",
   "execution_count": 89,
   "metadata": {},
   "outputs": [],
   "source": [
    "import pandas as pd\n",
    "import numpy as np"
   ]
  },
  {
   "cell_type": "code",
   "execution_count": 90,
   "metadata": {},
   "outputs": [],
   "source": [
    "elteams=pd.read_csv(\"datasets/actual.csv\")\n",
    "ecteams=pd.read_excel(\"datasets/ec2023.xlsx\", index_col=False)\n"
   ]
  },
  {
   "cell_type": "code",
   "execution_count": 91,
   "metadata": {},
   "outputs": [
    {
     "data": {
      "text/plain": [
       "Index(['Unnamed: 0', 'fecha', 'ronda', 'local', 'visitante', 'localscore',\n",
       "       'roadscore', 'Winner', 'Ganador', 'plusminus'],\n",
       "      dtype='object')"
      ]
     },
     "execution_count": 91,
     "metadata": {},
     "output_type": "execute_result"
    }
   ],
   "source": [
    "ecteams.head()\n",
    "ecteams.keys()"
   ]
  },
  {
   "cell_type": "markdown",
   "metadata": {},
   "source": [
    "Let's analyze the EuroCup Dataframe! Is there any cleaning needed? Remember the basics: \n",
    "- Drop Null Values\n",
    "- Drop Duplicate Rows\n",
    "- Drop Strange Columns if you see any"
   ]
  },
  {
   "cell_type": "code",
   "execution_count": 92,
   "metadata": {},
   "outputs": [
    {
     "name": "stdout",
     "output_type": "stream",
     "text": [
      "(173, 10)\n",
      "                 fecha  ronda                        local  \\\n",
      "0  2024-01-31T21:00:00     17       Dreamland Gran Canaria   \n",
      "1  2024-01-31T20:00:00     17      Dolomiti Energia Trento   \n",
      "2  2024-01-31T19:30:00     17               ratiopharm Ulm   \n",
      "3  2024-01-31T18:30:00     17  Cedevita Olimpija Ljubljana   \n",
      "4  2024-01-31T18:00:00     17          Turk Telekom Ankara   \n",
      "\n",
      "                        visitante  localscore  roadscore     Winner  Ganador  \\\n",
      "0                U-BT Cluj-Napoca         111      113.0  Visitante    113.0   \n",
      "1        Buducnost VOLI Podgorica          78       97.0  Visitante     97.0   \n",
      "2         Aris Midea Thessaloniki          66       86.0  Visitante     86.0   \n",
      "3                    London Lions          85       92.0  Visitante     92.0   \n",
      "4  Mincidelice JL Bourg en Bresse          64       68.0  Visitante     68.0   \n",
      "\n",
      "   plusminus  \n",
      "0       -2.0  \n",
      "1      -19.0  \n",
      "2      -20.0  \n",
      "3       -7.0  \n",
      "4       -4.0  \n",
      "(170, 9)\n"
     ]
    }
   ],
   "source": [
    "# Your Code here:\n",
    "print(ecteams.shape)\n",
    "ecteams.drop(columns=\"Unnamed: 0\", inplace=True)\n",
    "ecteams = ecteams.dropna()\n",
    "ecteams = ecteams.drop_duplicates()\n",
    "print(ecteams.head())\n",
    "print(ecteams.shape)\n"
   ]
  },
  {
   "cell_type": "markdown",
   "metadata": {},
   "source": [
    "Let's now compare it with the EL dataset that we have: You might select a sample of both of them and see what are the inconsistencies!"
   ]
  },
  {
   "cell_type": "code",
   "execution_count": 93,
   "metadata": {},
   "outputs": [
    {
     "data": {
      "text/html": [
       "<div>\n",
       "<style scoped>\n",
       "    .dataframe tbody tr th:only-of-type {\n",
       "        vertical-align: middle;\n",
       "    }\n",
       "\n",
       "    .dataframe tbody tr th {\n",
       "        vertical-align: top;\n",
       "    }\n",
       "\n",
       "    .dataframe thead th {\n",
       "        text-align: right;\n",
       "    }\n",
       "</style>\n",
       "<table border=\"1\" class=\"dataframe\">\n",
       "  <thead>\n",
       "    <tr style=\"text-align: right;\">\n",
       "      <th></th>\n",
       "      <th>fecha</th>\n",
       "      <th>ronda</th>\n",
       "      <th>local</th>\n",
       "      <th>visitante</th>\n",
       "      <th>localscore</th>\n",
       "      <th>roadscore</th>\n",
       "      <th>Winner</th>\n",
       "      <th>Ganador</th>\n",
       "      <th>plusminus</th>\n",
       "    </tr>\n",
       "  </thead>\n",
       "  <tbody>\n",
       "    <tr>\n",
       "      <th>139</th>\n",
       "      <td>2023-10-24T20:30:00</td>\n",
       "      <td>4</td>\n",
       "      <td>London Lions</td>\n",
       "      <td>Paris Basketball</td>\n",
       "      <td>102</td>\n",
       "      <td>106.0</td>\n",
       "      <td>Visitante</td>\n",
       "      <td>106.0</td>\n",
       "      <td>-4.0</td>\n",
       "    </tr>\n",
       "  </tbody>\n",
       "</table>\n",
       "</div>"
      ],
      "text/plain": [
       "                   fecha  ronda         local         visitante  localscore  \\\n",
       "139  2023-10-24T20:30:00      4  London Lions  Paris Basketball         102   \n",
       "\n",
       "     roadscore     Winner  Ganador  plusminus  \n",
       "139      106.0  Visitante    106.0       -4.0  "
      ]
     },
     "execution_count": 93,
     "metadata": {},
     "output_type": "execute_result"
    }
   ],
   "source": [
    "#Your sample ecteams code here: \n",
    "ecteams.sample()\n"
   ]
  },
  {
   "cell_type": "code",
   "execution_count": 94,
   "metadata": {},
   "outputs": [
    {
     "data": {
      "text/html": [
       "<div>\n",
       "<style scoped>\n",
       "    .dataframe tbody tr th:only-of-type {\n",
       "        vertical-align: middle;\n",
       "    }\n",
       "\n",
       "    .dataframe tbody tr th {\n",
       "        vertical-align: top;\n",
       "    }\n",
       "\n",
       "    .dataframe thead th {\n",
       "        text-align: right;\n",
       "    }\n",
       "</style>\n",
       "<table border=\"1\" class=\"dataframe\">\n",
       "  <thead>\n",
       "    <tr style=\"text-align: right;\">\n",
       "      <th></th>\n",
       "      <th>Competition</th>\n",
       "      <th>Phase</th>\n",
       "      <th>Ronda</th>\n",
       "      <th>Dia</th>\n",
       "      <th>Hora</th>\n",
       "      <th>Local</th>\n",
       "      <th>Visitante</th>\n",
       "      <th>Localscore</th>\n",
       "      <th>Roadscore</th>\n",
       "      <th>Arbitros</th>\n",
       "      <th>Plusminus</th>\n",
       "      <th>Winner</th>\n",
       "      <th>Ganador</th>\n",
       "    </tr>\n",
       "  </thead>\n",
       "  <tbody>\n",
       "    <tr>\n",
       "      <th>141</th>\n",
       "      <td>Euroleague</td>\n",
       "      <td>Regular Season</td>\n",
       "      <td>16</td>\n",
       "      <td>2023-12-22</td>\n",
       "      <td>20:15:00</td>\n",
       "      <td>ALBA Berlin</td>\n",
       "      <td>Fenerbahce Beko Istanbul</td>\n",
       "      <td>82</td>\n",
       "      <td>91</td>\n",
       "      <td>['DIFALLAH, MEHDI', 'FOUFIS, IOANNIS', 'BALAK,...</td>\n",
       "      <td>-9</td>\n",
       "      <td>Fenerbahce Beko Istanbul</td>\n",
       "      <td>Visitante</td>\n",
       "    </tr>\n",
       "  </tbody>\n",
       "</table>\n",
       "</div>"
      ],
      "text/plain": [
       "    Competition           Phase  Ronda         Dia      Hora        Local  \\\n",
       "141  Euroleague  Regular Season     16  2023-12-22  20:15:00  ALBA Berlin   \n",
       "\n",
       "                    Visitante  Localscore  Roadscore  \\\n",
       "141  Fenerbahce Beko Istanbul          82         91   \n",
       "\n",
       "                                              Arbitros  Plusminus  \\\n",
       "141  ['DIFALLAH, MEHDI', 'FOUFIS, IOANNIS', 'BALAK,...         -9   \n",
       "\n",
       "                       Winner    Ganador  \n",
       "141  Fenerbahce Beko Istanbul  Visitante  "
      ]
     },
     "execution_count": 94,
     "metadata": {},
     "output_type": "execute_result"
    }
   ],
   "source": [
    "#Your sample elteams code here: \n",
    "elteams.sample()\n"
   ]
  },
  {
   "cell_type": "markdown",
   "metadata": {},
   "source": [
    "What are the inconsistencies that you are seeing? Write them down!\n",
    "\n",
    "- Lo primero es que las columnas no son iguales: competicion, phase, (dia y hora) fecha, arbitros\n",
    "- La EL esta en mayusculas mientras EC es todo en minusculas\n",
    "- Winner en EC nos dice si es Local o Visitante mientras en EL dice el equipo\n",
    "- Plusminus esta en float y en int respectivamente\n",
    "- En ganador esta cambiado tambien en EL dice si es local o visitante,en EC dice la puntuacion mas alta de los 2 scores\n",
    "\n",
    "<details>\n",
    "    <summary> Expand the box to see the inconsistencies </summary>\n",
    "\n",
    "- The columns are named in lowercase and the columns in Euroleague are capitalized\n",
    "- There are some missing columns (f.e. Arbitros)\n",
    "- Fecha is not split in Dia and Hora\n",
    "- `Winner and Ganador Columns show different data` are not the same! Be extremely careful about it\n",
    "\n",
    "</details>"
   ]
  },
  {
   "cell_type": "markdown",
   "metadata": {},
   "source": [
    "As you can see there are a lot of different inconsistencies right? \n",
    "But beofore starting cleaning like crazy people, let's take a second to know what do we want to compare: \n",
    "\n",
    "- The CLUBS are impossible to compare, as different competitions defines different clubs\n",
    "- Both rounds (Eurocup has less rounds) and Dates (Different Dates) are also not really useful\n",
    "- We don't have information about Arbitros\n",
    "\n",
    "## Conclusion\n",
    "\n",
    "### We must take into consideration what data we DO have in both dataframes to compare it propperly and don't use time cleaning unnecessary things. \n",
    "\n",
    "In this particular case, we will need to compare: \n"
   ]
  },
  {
   "cell_type": "markdown",
   "metadata": {},
   "source": [
    "`Competition`: The main column that define one from another. \n",
    "\n",
    "Create the Competition column in the EuroCup dataframe, being the fixed value \"Eurocup\""
   ]
  },
  {
   "cell_type": "code",
   "execution_count": 95,
   "metadata": {},
   "outputs": [
    {
     "data": {
      "text/html": [
       "<div>\n",
       "<style scoped>\n",
       "    .dataframe tbody tr th:only-of-type {\n",
       "        vertical-align: middle;\n",
       "    }\n",
       "\n",
       "    .dataframe tbody tr th {\n",
       "        vertical-align: top;\n",
       "    }\n",
       "\n",
       "    .dataframe thead th {\n",
       "        text-align: right;\n",
       "    }\n",
       "</style>\n",
       "<table border=\"1\" class=\"dataframe\">\n",
       "  <thead>\n",
       "    <tr style=\"text-align: right;\">\n",
       "      <th></th>\n",
       "      <th>fecha</th>\n",
       "      <th>ronda</th>\n",
       "      <th>local</th>\n",
       "      <th>visitante</th>\n",
       "      <th>localscore</th>\n",
       "      <th>roadscore</th>\n",
       "      <th>Winner</th>\n",
       "      <th>Ganador</th>\n",
       "      <th>plusminus</th>\n",
       "      <th>competition</th>\n",
       "    </tr>\n",
       "  </thead>\n",
       "  <tbody>\n",
       "    <tr>\n",
       "      <th>138</th>\n",
       "      <td>2023-10-25T18:00:00</td>\n",
       "      <td>4</td>\n",
       "      <td>7bet-Lietkabelis Panevezys</td>\n",
       "      <td>Dolomiti Energia Trento</td>\n",
       "      <td>92</td>\n",
       "      <td>93.0</td>\n",
       "      <td>Visitante</td>\n",
       "      <td>93.0</td>\n",
       "      <td>-1.0</td>\n",
       "      <td>Eurocup</td>\n",
       "    </tr>\n",
       "  </tbody>\n",
       "</table>\n",
       "</div>"
      ],
      "text/plain": [
       "                   fecha  ronda                       local  \\\n",
       "138  2023-10-25T18:00:00      4  7bet-Lietkabelis Panevezys   \n",
       "\n",
       "                   visitante  localscore  roadscore     Winner  Ganador  \\\n",
       "138  Dolomiti Energia Trento          92       93.0  Visitante     93.0   \n",
       "\n",
       "     plusminus competition  \n",
       "138       -1.0     Eurocup  "
      ]
     },
     "execution_count": 95,
     "metadata": {},
     "output_type": "execute_result"
    }
   ],
   "source": [
    "#Your Code here: \n",
    "ecteams['competition'] = 'Eurocup'\n",
    "ecteams.sample()"
   ]
  },
  {
   "cell_type": "markdown",
   "metadata": {},
   "source": [
    "`Ganador`: Being the actual values \"Local\" or \"Visitante\"\n",
    "\n",
    "**BE CAREFUL**: Before changing the correct column to \"Ganador\" from the EC dataframe, there is a \"Ganador\" column with the incorrect information: STEP BY STEP!"
   ]
  },
  {
   "cell_type": "code",
   "execution_count": 96,
   "metadata": {},
   "outputs": [],
   "source": [
    "#Drop the Column Ganador from the Eurocup Dataframe\n",
    "ecteams.drop(columns='Ganador', inplace=True)"
   ]
  },
  {
   "cell_type": "code",
   "execution_count": 97,
   "metadata": {},
   "outputs": [],
   "source": [
    "#Rename the column with the actual information to \"Ganador\"\n",
    "ecteams['Ganador'] = np.where(ecteams['localscore'] > ecteams['roadscore'], 'local', 'visitante')\n"
   ]
  },
  {
   "cell_type": "code",
   "execution_count": 98,
   "metadata": {},
   "outputs": [
    {
     "data": {
      "text/html": [
       "<div>\n",
       "<style scoped>\n",
       "    .dataframe tbody tr th:only-of-type {\n",
       "        vertical-align: middle;\n",
       "    }\n",
       "\n",
       "    .dataframe tbody tr th {\n",
       "        vertical-align: top;\n",
       "    }\n",
       "\n",
       "    .dataframe thead th {\n",
       "        text-align: right;\n",
       "    }\n",
       "</style>\n",
       "<table border=\"1\" class=\"dataframe\">\n",
       "  <thead>\n",
       "    <tr style=\"text-align: right;\">\n",
       "      <th></th>\n",
       "      <th>fecha</th>\n",
       "      <th>ronda</th>\n",
       "      <th>local</th>\n",
       "      <th>visitante</th>\n",
       "      <th>localscore</th>\n",
       "      <th>roadscore</th>\n",
       "      <th>Winner</th>\n",
       "      <th>plusminus</th>\n",
       "      <th>competition</th>\n",
       "      <th>Ganador</th>\n",
       "    </tr>\n",
       "  </thead>\n",
       "  <tbody>\n",
       "    <tr>\n",
       "      <th>149</th>\n",
       "      <td>2023-10-18T18:00:00</td>\n",
       "      <td>3</td>\n",
       "      <td>Prometey Slobozhanske</td>\n",
       "      <td>London Lions</td>\n",
       "      <td>87</td>\n",
       "      <td>99.0</td>\n",
       "      <td>Visitante</td>\n",
       "      <td>-12.0</td>\n",
       "      <td>Eurocup</td>\n",
       "      <td>visitante</td>\n",
       "    </tr>\n",
       "  </tbody>\n",
       "</table>\n",
       "</div>"
      ],
      "text/plain": [
       "                   fecha  ronda                  local     visitante  \\\n",
       "149  2023-10-18T18:00:00      3  Prometey Slobozhanske  London Lions   \n",
       "\n",
       "     localscore  roadscore     Winner  plusminus competition    Ganador  \n",
       "149          87       99.0  Visitante      -12.0     Eurocup  visitante  "
      ]
     },
     "execution_count": 98,
     "metadata": {},
     "output_type": "execute_result"
    }
   ],
   "source": [
    "ecteams.sample()"
   ]
  },
  {
   "cell_type": "markdown",
   "metadata": {},
   "source": [
    "As seen in the first look at the dataframes, there was a problem with the columns: Are lower when they should be Capitalized, as in the Euroleague DataFrame. Change the column names to capitalize. \n",
    "\n",
    "is there a quick way to do it?"
   ]
  },
  {
   "cell_type": "code",
   "execution_count": 99,
   "metadata": {},
   "outputs": [
    {
     "data": {
      "text/html": [
       "<div>\n",
       "<style scoped>\n",
       "    .dataframe tbody tr th:only-of-type {\n",
       "        vertical-align: middle;\n",
       "    }\n",
       "\n",
       "    .dataframe tbody tr th {\n",
       "        vertical-align: top;\n",
       "    }\n",
       "\n",
       "    .dataframe thead th {\n",
       "        text-align: right;\n",
       "    }\n",
       "</style>\n",
       "<table border=\"1\" class=\"dataframe\">\n",
       "  <thead>\n",
       "    <tr style=\"text-align: right;\">\n",
       "      <th></th>\n",
       "      <th>Fecha</th>\n",
       "      <th>Ronda</th>\n",
       "      <th>Local</th>\n",
       "      <th>Visitante</th>\n",
       "      <th>Localscore</th>\n",
       "      <th>Roadscore</th>\n",
       "      <th>Winner</th>\n",
       "      <th>Plusminus</th>\n",
       "      <th>Competition</th>\n",
       "      <th>Ganador</th>\n",
       "    </tr>\n",
       "  </thead>\n",
       "  <tbody>\n",
       "    <tr>\n",
       "      <th>27</th>\n",
       "      <td>2024-01-17T18:30:00</td>\n",
       "      <td>15</td>\n",
       "      <td>Cedevita Olimpija Ljubljana</td>\n",
       "      <td>Umana Reyer Venice</td>\n",
       "      <td>93</td>\n",
       "      <td>104.0</td>\n",
       "      <td>Visitante</td>\n",
       "      <td>-11.0</td>\n",
       "      <td>Eurocup</td>\n",
       "      <td>visitante</td>\n",
       "    </tr>\n",
       "  </tbody>\n",
       "</table>\n",
       "</div>"
      ],
      "text/plain": [
       "                  Fecha  Ronda                        Local  \\\n",
       "27  2024-01-17T18:30:00     15  Cedevita Olimpija Ljubljana   \n",
       "\n",
       "             Visitante  Localscore  Roadscore     Winner  Plusminus  \\\n",
       "27  Umana Reyer Venice          93      104.0  Visitante      -11.0   \n",
       "\n",
       "   Competition    Ganador  \n",
       "27     Eurocup  visitante  "
      ]
     },
     "execution_count": 99,
     "metadata": {},
     "output_type": "execute_result"
    }
   ],
   "source": [
    "# Your code here: \n",
    "ecteams.columns = ecteams.columns.str.capitalize()\n",
    "ecteams.sample()"
   ]
  },
  {
   "cell_type": "markdown",
   "metadata": {},
   "source": [
    "Now it is time to just take the useful columns from each data! We will call the result subsets `comp_el` and `comp_ec`\n",
    "\n",
    "REMEMBER: Use the same order of the columns for each dataset. \n",
    "\n",
    "Recommended order: Competition, Localscore, Roadscore, Plusminus, Ganador. **Nothing else is useful**"
   ]
  },
  {
   "cell_type": "code",
   "execution_count": 100,
   "metadata": {},
   "outputs": [],
   "source": [
    "# Your code here: \n",
    "comp_el = elteams[['Competition','Localscore','Roadscore','Plusminus','Ganador']]\n",
    "comp_ec = ecteams[['Competition','Localscore','Roadscore','Plusminus','Ganador']]"
   ]
  },
  {
   "cell_type": "markdown",
   "metadata": {},
   "source": [
    "Time to concatenate them both! Create a concat of both Dfs, called `competition`"
   ]
  },
  {
   "cell_type": "code",
   "execution_count": 101,
   "metadata": {},
   "outputs": [
    {
     "data": {
      "text/html": [
       "<div>\n",
       "<style scoped>\n",
       "    .dataframe tbody tr th:only-of-type {\n",
       "        vertical-align: middle;\n",
       "    }\n",
       "\n",
       "    .dataframe tbody tr th {\n",
       "        vertical-align: top;\n",
       "    }\n",
       "\n",
       "    .dataframe thead th {\n",
       "        text-align: right;\n",
       "    }\n",
       "</style>\n",
       "<table border=\"1\" class=\"dataframe\">\n",
       "  <thead>\n",
       "    <tr style=\"text-align: right;\">\n",
       "      <th></th>\n",
       "      <th>Competition</th>\n",
       "      <th>Localscore</th>\n",
       "      <th>Roadscore</th>\n",
       "      <th>Plusminus</th>\n",
       "      <th>Ganador</th>\n",
       "    </tr>\n",
       "  </thead>\n",
       "  <tbody>\n",
       "    <tr>\n",
       "      <th>66</th>\n",
       "      <td>Eurocup</td>\n",
       "      <td>100</td>\n",
       "      <td>70.0</td>\n",
       "      <td>30.0</td>\n",
       "      <td>local</td>\n",
       "    </tr>\n",
       "    <tr>\n",
       "      <th>95</th>\n",
       "      <td>Eurocup</td>\n",
       "      <td>71</td>\n",
       "      <td>75.0</td>\n",
       "      <td>-4.0</td>\n",
       "      <td>visitante</td>\n",
       "    </tr>\n",
       "    <tr>\n",
       "      <th>4</th>\n",
       "      <td>Euroleague</td>\n",
       "      <td>91</td>\n",
       "      <td>74.0</td>\n",
       "      <td>17.0</td>\n",
       "      <td>Local</td>\n",
       "    </tr>\n",
       "    <tr>\n",
       "      <th>213</th>\n",
       "      <td>Euroleague</td>\n",
       "      <td>85</td>\n",
       "      <td>70.0</td>\n",
       "      <td>15.0</td>\n",
       "      <td>Local</td>\n",
       "    </tr>\n",
       "    <tr>\n",
       "      <th>60</th>\n",
       "      <td>Euroleague</td>\n",
       "      <td>85</td>\n",
       "      <td>99.0</td>\n",
       "      <td>-14.0</td>\n",
       "      <td>Visitante</td>\n",
       "    </tr>\n",
       "    <tr>\n",
       "      <th>151</th>\n",
       "      <td>Euroleague</td>\n",
       "      <td>67</td>\n",
       "      <td>94.0</td>\n",
       "      <td>-27.0</td>\n",
       "      <td>Visitante</td>\n",
       "    </tr>\n",
       "    <tr>\n",
       "      <th>127</th>\n",
       "      <td>Euroleague</td>\n",
       "      <td>74</td>\n",
       "      <td>70.0</td>\n",
       "      <td>4.0</td>\n",
       "      <td>Local</td>\n",
       "    </tr>\n",
       "    <tr>\n",
       "      <th>209</th>\n",
       "      <td>Euroleague</td>\n",
       "      <td>82</td>\n",
       "      <td>64.0</td>\n",
       "      <td>18.0</td>\n",
       "      <td>Local</td>\n",
       "    </tr>\n",
       "    <tr>\n",
       "      <th>114</th>\n",
       "      <td>Eurocup</td>\n",
       "      <td>76</td>\n",
       "      <td>87.0</td>\n",
       "      <td>-11.0</td>\n",
       "      <td>visitante</td>\n",
       "    </tr>\n",
       "    <tr>\n",
       "      <th>3</th>\n",
       "      <td>Euroleague</td>\n",
       "      <td>80</td>\n",
       "      <td>68.0</td>\n",
       "      <td>12.0</td>\n",
       "      <td>Local</td>\n",
       "    </tr>\n",
       "    <tr>\n",
       "      <th>123</th>\n",
       "      <td>Eurocup</td>\n",
       "      <td>90</td>\n",
       "      <td>98.0</td>\n",
       "      <td>-8.0</td>\n",
       "      <td>visitante</td>\n",
       "    </tr>\n",
       "    <tr>\n",
       "      <th>215</th>\n",
       "      <td>Euroleague</td>\n",
       "      <td>84</td>\n",
       "      <td>57.0</td>\n",
       "      <td>27.0</td>\n",
       "      <td>Local</td>\n",
       "    </tr>\n",
       "    <tr>\n",
       "      <th>137</th>\n",
       "      <td>Eurocup</td>\n",
       "      <td>89</td>\n",
       "      <td>74.0</td>\n",
       "      <td>15.0</td>\n",
       "      <td>local</td>\n",
       "    </tr>\n",
       "    <tr>\n",
       "      <th>139</th>\n",
       "      <td>Euroleague</td>\n",
       "      <td>80</td>\n",
       "      <td>85.0</td>\n",
       "      <td>-5.0</td>\n",
       "      <td>Visitante</td>\n",
       "    </tr>\n",
       "    <tr>\n",
       "      <th>157</th>\n",
       "      <td>Euroleague</td>\n",
       "      <td>90</td>\n",
       "      <td>77.0</td>\n",
       "      <td>13.0</td>\n",
       "      <td>Local</td>\n",
       "    </tr>\n",
       "    <tr>\n",
       "      <th>56</th>\n",
       "      <td>Euroleague</td>\n",
       "      <td>93</td>\n",
       "      <td>90.0</td>\n",
       "      <td>3.0</td>\n",
       "      <td>Local</td>\n",
       "    </tr>\n",
       "    <tr>\n",
       "      <th>81</th>\n",
       "      <td>Eurocup</td>\n",
       "      <td>95</td>\n",
       "      <td>84.0</td>\n",
       "      <td>11.0</td>\n",
       "      <td>local</td>\n",
       "    </tr>\n",
       "    <tr>\n",
       "      <th>43</th>\n",
       "      <td>Eurocup</td>\n",
       "      <td>93</td>\n",
       "      <td>71.0</td>\n",
       "      <td>22.0</td>\n",
       "      <td>local</td>\n",
       "    </tr>\n",
       "    <tr>\n",
       "      <th>137</th>\n",
       "      <td>Euroleague</td>\n",
       "      <td>91</td>\n",
       "      <td>75.0</td>\n",
       "      <td>16.0</td>\n",
       "      <td>Local</td>\n",
       "    </tr>\n",
       "    <tr>\n",
       "      <th>25</th>\n",
       "      <td>Euroleague</td>\n",
       "      <td>87</td>\n",
       "      <td>76.0</td>\n",
       "      <td>11.0</td>\n",
       "      <td>Local</td>\n",
       "    </tr>\n",
       "  </tbody>\n",
       "</table>\n",
       "</div>"
      ],
      "text/plain": [
       "    Competition  Localscore  Roadscore  Plusminus    Ganador\n",
       "66      Eurocup         100       70.0       30.0      local\n",
       "95      Eurocup          71       75.0       -4.0  visitante\n",
       "4    Euroleague          91       74.0       17.0      Local\n",
       "213  Euroleague          85       70.0       15.0      Local\n",
       "60   Euroleague          85       99.0      -14.0  Visitante\n",
       "151  Euroleague          67       94.0      -27.0  Visitante\n",
       "127  Euroleague          74       70.0        4.0      Local\n",
       "209  Euroleague          82       64.0       18.0      Local\n",
       "114     Eurocup          76       87.0      -11.0  visitante\n",
       "3    Euroleague          80       68.0       12.0      Local\n",
       "123     Eurocup          90       98.0       -8.0  visitante\n",
       "215  Euroleague          84       57.0       27.0      Local\n",
       "137     Eurocup          89       74.0       15.0      local\n",
       "139  Euroleague          80       85.0       -5.0  Visitante\n",
       "157  Euroleague          90       77.0       13.0      Local\n",
       "56   Euroleague          93       90.0        3.0      Local\n",
       "81      Eurocup          95       84.0       11.0      local\n",
       "43      Eurocup          93       71.0       22.0      local\n",
       "137  Euroleague          91       75.0       16.0      Local\n",
       "25   Euroleague          87       76.0       11.0      Local"
      ]
     },
     "execution_count": 101,
     "metadata": {},
     "output_type": "execute_result"
    }
   ],
   "source": [
    "# Your code here: \n",
    "competition = pd.concat([comp_ec, comp_el])\n",
    "competition.sample(20)"
   ]
  },
  {
   "cell_type": "markdown",
   "metadata": {},
   "source": [
    "## Well done!\n",
    "\n",
    "Now we have the combination of both competitions in the same dataframe. Is time for the questions you must answer: "
   ]
  },
  {
   "cell_type": "markdown",
   "metadata": {},
   "source": [
    "1. How many matches have been in each competition?\n",
    "2. What are the maximum points that a local team has scored per competition? And the road team as well. \n",
    "3. Do the same operations with the average points (per competition)\n",
    "4. Can you tell me the maximum difference that has been in a match, splitted by competition? \n",
    "    - Careful: The Plusminus is both positive and negative, being negative that the Road Team has achieved the Victory. To have the absolute, create a new Column named Absolut_Plusminus. Remember: np.where is life!\n",
    "5. Also grouped by competition, give me the number of victories of the Locals and the Visitors"
   ]
  },
  {
   "cell_type": "code",
   "execution_count": 102,
   "metadata": {},
   "outputs": [
    {
     "name": "stdout",
     "output_type": "stream",
     "text": [
      "Han jugado 170 partidos en la Eurocopa \n",
      "Se han jugado 225 en la Euroliga \n",
      "395 partidos jugados en total\n"
     ]
    }
   ],
   "source": [
    "# 1 - How many matches have been in each competition?\n",
    "matches_ec = len(comp_ec['Ganador'])\n",
    "matches_el = len(comp_el['Ganador'])\n",
    "suma= matches_el + matches_ec\n",
    "print(f'Han jugado {matches_ec} partidos en la Eurocopa \\nSe han jugado {matches_el} en la Euroliga \\n{suma} partidos jugados en total')"
   ]
  },
  {
   "cell_type": "code",
   "execution_count": 103,
   "metadata": {},
   "outputs": [
    {
     "name": "stdout",
     "output_type": "stream",
     "text": [
      "Max score local EC: 120\n",
      "Max score road EC: 114.0\n",
      "Max score local EL: 130\n",
      "Max score road EL: 126\n"
     ]
    }
   ],
   "source": [
    "# 2 - What are the maximum points that a local team has scored per competition? And the road team as well.\n",
    "max_score_local_ec = ecteams['Localscore'].max()\n",
    "max_score_visitante_ec = ecteams['Roadscore'].max()\n",
    "max_score_local_el = elteams['Localscore'].max()\n",
    "max_score_visitante_el = elteams['Roadscore'].max()\n",
    "print(f'Max score local EC: {max_score_local_ec}\\nMax score road EC: {max_score_visitante_ec}')\n",
    "print(f'Max score local EL: {max_score_local_el}\\nMax score road EL: {max_score_visitante_el}')\n"
   ]
  },
  {
   "cell_type": "code",
   "execution_count": 104,
   "metadata": {},
   "outputs": [
    {
     "name": "stdout",
     "output_type": "stream",
     "text": [
      "Average score local EC: 85.24\n",
      "Average score road EC: 83.96\n",
      "Average score local EL: 83.28\n",
      "Average score road EL: 79.17\n"
     ]
    }
   ],
   "source": [
    "# 3 - Do the same operations with the average points (per competition)\n",
    "# 3 - Do the same operations with the average points (per competition)\n",
    "avg_score_local_ec = ecteams['Localscore'].mean()\n",
    "avg_score_visitante_ec = ecteams['Roadscore'].mean()\n",
    "avg_score_local_el = elteams['Localscore'].mean()\n",
    "avg_score_visitante_el = elteams['Roadscore'].mean()\n",
    "\n",
    "avg_score_local_ec_rounded = round(avg_score_local_ec, 2)\n",
    "avg_score_visitante_ec_rounded = round(avg_score_visitante_ec, 2)\n",
    "avg_score_local_el_rounded = round(avg_score_local_el, 2)\n",
    "avg_score_visitante_el_rounded = round(avg_score_visitante_el, 2)\n",
    "\n",
    "print(f'Average score local EC: {avg_score_local_ec_rounded}\\nAverage score road EC: {avg_score_visitante_ec_rounded}')\n",
    "print(f'Average score local EL: {avg_score_local_el_rounded}\\nAverage score road EL: {avg_score_visitante_el_rounded}')"
   ]
  },
  {
   "cell_type": "code",
   "execution_count": 105,
   "metadata": {},
   "outputs": [
    {
     "data": {
      "text/html": [
       "<div>\n",
       "<style scoped>\n",
       "    .dataframe tbody tr th:only-of-type {\n",
       "        vertical-align: middle;\n",
       "    }\n",
       "\n",
       "    .dataframe tbody tr th {\n",
       "        vertical-align: top;\n",
       "    }\n",
       "\n",
       "    .dataframe thead th {\n",
       "        text-align: right;\n",
       "    }\n",
       "</style>\n",
       "<table border=\"1\" class=\"dataframe\">\n",
       "  <thead>\n",
       "    <tr style=\"text-align: right;\">\n",
       "      <th></th>\n",
       "      <th>Fecha</th>\n",
       "      <th>Ronda</th>\n",
       "      <th>Local</th>\n",
       "      <th>Visitante</th>\n",
       "      <th>Localscore</th>\n",
       "      <th>Roadscore</th>\n",
       "      <th>Winner</th>\n",
       "      <th>Plusminus</th>\n",
       "      <th>Competition</th>\n",
       "      <th>Ganador</th>\n",
       "      <th>Absolute Plusminus</th>\n",
       "    </tr>\n",
       "  </thead>\n",
       "  <tbody>\n",
       "    <tr>\n",
       "      <th>0</th>\n",
       "      <td>2024-01-31T21:00:00</td>\n",
       "      <td>17</td>\n",
       "      <td>Dreamland Gran Canaria</td>\n",
       "      <td>U-BT Cluj-Napoca</td>\n",
       "      <td>111</td>\n",
       "      <td>113.0</td>\n",
       "      <td>Visitante</td>\n",
       "      <td>-2.0</td>\n",
       "      <td>Eurocup</td>\n",
       "      <td>visitante</td>\n",
       "      <td>2.0</td>\n",
       "    </tr>\n",
       "    <tr>\n",
       "      <th>1</th>\n",
       "      <td>2024-01-31T20:00:00</td>\n",
       "      <td>17</td>\n",
       "      <td>Dolomiti Energia Trento</td>\n",
       "      <td>Buducnost VOLI Podgorica</td>\n",
       "      <td>78</td>\n",
       "      <td>97.0</td>\n",
       "      <td>Visitante</td>\n",
       "      <td>-19.0</td>\n",
       "      <td>Eurocup</td>\n",
       "      <td>visitante</td>\n",
       "      <td>19.0</td>\n",
       "    </tr>\n",
       "    <tr>\n",
       "      <th>2</th>\n",
       "      <td>2024-01-31T19:30:00</td>\n",
       "      <td>17</td>\n",
       "      <td>ratiopharm Ulm</td>\n",
       "      <td>Aris Midea Thessaloniki</td>\n",
       "      <td>66</td>\n",
       "      <td>86.0</td>\n",
       "      <td>Visitante</td>\n",
       "      <td>-20.0</td>\n",
       "      <td>Eurocup</td>\n",
       "      <td>visitante</td>\n",
       "      <td>20.0</td>\n",
       "    </tr>\n",
       "    <tr>\n",
       "      <th>3</th>\n",
       "      <td>2024-01-31T18:30:00</td>\n",
       "      <td>17</td>\n",
       "      <td>Cedevita Olimpija Ljubljana</td>\n",
       "      <td>London Lions</td>\n",
       "      <td>85</td>\n",
       "      <td>92.0</td>\n",
       "      <td>Visitante</td>\n",
       "      <td>-7.0</td>\n",
       "      <td>Eurocup</td>\n",
       "      <td>visitante</td>\n",
       "      <td>7.0</td>\n",
       "    </tr>\n",
       "    <tr>\n",
       "      <th>4</th>\n",
       "      <td>2024-01-31T18:00:00</td>\n",
       "      <td>17</td>\n",
       "      <td>Turk Telekom Ankara</td>\n",
       "      <td>Mincidelice JL Bourg en Bresse</td>\n",
       "      <td>64</td>\n",
       "      <td>68.0</td>\n",
       "      <td>Visitante</td>\n",
       "      <td>-4.0</td>\n",
       "      <td>Eurocup</td>\n",
       "      <td>visitante</td>\n",
       "      <td>4.0</td>\n",
       "    </tr>\n",
       "  </tbody>\n",
       "</table>\n",
       "</div>"
      ],
      "text/plain": [
       "                 Fecha  Ronda                        Local  \\\n",
       "0  2024-01-31T21:00:00     17       Dreamland Gran Canaria   \n",
       "1  2024-01-31T20:00:00     17      Dolomiti Energia Trento   \n",
       "2  2024-01-31T19:30:00     17               ratiopharm Ulm   \n",
       "3  2024-01-31T18:30:00     17  Cedevita Olimpija Ljubljana   \n",
       "4  2024-01-31T18:00:00     17          Turk Telekom Ankara   \n",
       "\n",
       "                        Visitante  Localscore  Roadscore     Winner  \\\n",
       "0                U-BT Cluj-Napoca         111      113.0  Visitante   \n",
       "1        Buducnost VOLI Podgorica          78       97.0  Visitante   \n",
       "2         Aris Midea Thessaloniki          66       86.0  Visitante   \n",
       "3                    London Lions          85       92.0  Visitante   \n",
       "4  Mincidelice JL Bourg en Bresse          64       68.0  Visitante   \n",
       "\n",
       "   Plusminus Competition    Ganador  Absolute Plusminus  \n",
       "0       -2.0     Eurocup  visitante                 2.0  \n",
       "1      -19.0     Eurocup  visitante                19.0  \n",
       "2      -20.0     Eurocup  visitante                20.0  \n",
       "3       -7.0     Eurocup  visitante                 7.0  \n",
       "4       -4.0     Eurocup  visitante                 4.0  "
      ]
     },
     "execution_count": 105,
     "metadata": {},
     "output_type": "execute_result"
    }
   ],
   "source": [
    "# 4\n",
    "ecteams['Absolute Plusminus'] = np.where(ecteams['Plusminus'] < 0, -ecteams['Plusminus'], ecteams['Plusminus'])\n",
    "ecteams.head()\n",
    "# tengo que hacer esto para EC y para EL y"
   ]
  },
  {
   "cell_type": "code",
   "execution_count": 110,
   "metadata": {},
   "outputs": [
    {
     "name": "stdout",
     "output_type": "stream",
     "text": [
      "la mayor diferencia de plus minus en la Euro Liga fue: 38\n",
      "la mayor diferencia de plus minus en la Euro Copa fue: 38.0\n"
     ]
    }
   ],
   "source": [
    "ecteams['Absolute Plusminus'] = np.where(ecteams['Plusminus'] < 0, -ecteams['Plusminus'], ecteams['Plusminus'])\n",
    "elteams['Absolute Plusminus'] = np.where(elteams['Plusminus'] < 0, -elteams['Plusminus'], elteams['Plusminus'])\n",
    "dif_plus_el = elteams['Absolute Plusminus'].max() - elteams['Absolute Plusminus'].min()\n",
    "dif_plus_ec = ecteams['Absolute Plusminus'].max() - ecteams['Absolute Plusminus'].min()\n",
    "print(f'la mayor diferencia de plus minus en la Euro Liga fue: {dif_plus_el}')\n",
    "print(f'la mayor diferencia de plus minus en la Euro Copa fue: {dif_plus_ec}')"
   ]
  },
  {
   "cell_type": "code",
   "execution_count": 122,
   "metadata": {},
   "outputs": [
    {
     "name": "stdout",
     "output_type": "stream",
     "text": [
      "En la Euro Liga ha sido Ganador\n",
      "Local        150\n",
      "Visitante     75\n",
      "Name: count, dtype: int64\n"
     ]
    }
   ],
   "source": [
    "# 5. Also grouped by competition, give me the number of victories of the Locals and the Visitors\n",
    "ganados_el = elteams['Ganador'].value_counts()\n",
    "print(f'En la Euro Liga ha sido {ganados_el}')"
   ]
  },
  {
   "cell_type": "code",
   "execution_count": 123,
   "metadata": {},
   "outputs": [
    {
     "name": "stdout",
     "output_type": "stream",
     "text": [
      "En la Euro Copa ha sido Ganador\n",
      "local        90\n",
      "visitante    80\n",
      "Name: count, dtype: int64\n"
     ]
    }
   ],
   "source": [
    "ganados_ec = ecteams['Ganador'].value_counts()\n",
    "print(f'En la Euro Copa ha sido {ganados_ec}')"
   ]
  },
  {
   "cell_type": "code",
   "execution_count": null,
   "metadata": {},
   "outputs": [],
   "source": []
  }
 ],
 "metadata": {
  "kernelspec": {
   "display_name": "Python 3 (ipykernel)",
   "language": "python",
   "name": "python3"
  },
  "language_info": {
   "codemirror_mode": {
    "name": "ipython",
    "version": 3
   },
   "file_extension": ".py",
   "mimetype": "text/x-python",
   "name": "python",
   "nbconvert_exporter": "python",
   "pygments_lexer": "ipython3",
   "version": "3.11.5"
  }
 },
 "nbformat": 4,
 "nbformat_minor": 4
}
