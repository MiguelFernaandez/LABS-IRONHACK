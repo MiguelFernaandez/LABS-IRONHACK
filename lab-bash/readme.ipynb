{
 "cells": [
  {
   "cell_type": "markdown",
   "id": "d1522110-9859-4956-a0d7-17fb986ae71f",
   "metadata": {
    "tags": []
   },
   "source": [
    "![logo_ironhack_blue 7](https://user-images.githubusercontent.com/23629340/40541063-a07a0a8a-601a-11e8-91b5-2f13e4e6b441.png)\n",
    "\n",
    "# Lab | Bash\n",
    "\n",
    "## Introduction\n",
    "\n",
    "In this lab we are going to practice with [`bash`](<https://en.wikipedia.org/wiki/Bash_(Unix_shell)>), a shell and command-line language!\n",
    "\n",
    "## Setup\n",
    "\n",
    "1. Download this repo to your machine and navigate to it folder.\n",
    "\n",
    "2. Check the contents of the folder using the \"ls\" command\n",
    "\n",
    "```shell\n",
    "$ ls\n",
    "```\n",
    "\n",
    "and you should see the following:\n",
    "\n",
    "```shell\n",
    "exercises  inputs  lorem  lorem-copy  outputs  README.md\n",
    "```\n",
    "\n",
    "3. Stay in the same directory/folder and complete the following exercises.\n",
    "\n",
    "## Exercises\n",
    "\n",
    "1. Using the echo command print in console \"Hello World\". Here is some info about echo command [https://discuss.codecademy.com/t/what-are-practical-uses-of-the-echo-command/394788]\n",
    "2. Create a new directory called `new_dir`.\n",
    "3. Delete/Remove the directory `new_dir`.\n",
    "4. Copy the file `sed.txt` from the `lorem` folder and paste it to the folder `lorem-copy` folder.\n",
    "5. Copy the other two files from the `lorem folder` to `lorem-copy` folder in just one line using semicolon `;`.\n",
    "6. Show the `sed.txt` file content from the `lorem` folder.\n",
    "7. Show the `at.txt` file and `lorem.txt` file contents from `lorem` folder.\n",
    "8. Print the first 3 rows in `sed.txt` file from lorem-copy folder.\n",
    "9. Print the last 3 rows in `sed.txt` file from lorem-copy folder.\n",
    "10. Add `Homo homini lupus.` at the end of `sed.txt` file in the `lorem-copy` folder.\n",
    "11. Print the last 3 rows in `sed.txt` file from `lorem-copy` folder. You should see `Homo homini lupus.`.\n",
    "12. `sed` command is used to replace the text in a file. Use the `sed` command to replace all occurances of `et` with `ET` in the file `at.txt` file present in the folder `lorem`. You can use the following link to refer to `sed` commands [https://www.linode.com/docs/guides/manipulate-text-from-the-command-line-with-sed/]\n",
    "Check the contents of the sed.txt file using `cat` command.\n",
    "13. Find who is the system user. \n",
    "14. Find the current path of the directory you are in.\n",
    "15. List all files with the extension `.txt` in lorem folder.\n",
    "16. Count the rows in `sed.txt` file from lorem folder. Look concatenate `cat` and `wc` with the pipe `|`.\n",
    "17. Count the **files** which start with `lorem` in all directories.\n",
    "\n",
    "\n",
    "## Bonus\n",
    "\n",
    "20. Store your `name` in a variable with `read` command.\n",
    "21. Print that variable.\n",
    "22. Create a new directory named with variable `name`.\n",
    "23. Remove that directory.\n"
   ]
  }
 ],
 "metadata": {
  "kernelspec": {
   "display_name": "Python 3 (ipykernel)",
   "language": "python",
   "name": "python3"
  },
  "language_info": {
   "codemirror_mode": {
    "name": "ipython",
    "version": 3
   },
   "file_extension": ".py",
   "mimetype": "text/x-python",
   "name": "python",
   "nbconvert_exporter": "python",
   "pygments_lexer": "ipython3",
   "version": "3.11.5"
  }
 },
 "nbformat": 4,
 "nbformat_minor": 5
}
